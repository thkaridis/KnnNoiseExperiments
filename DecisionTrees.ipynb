{
 "cells": [
  {
   "cell_type": "code",
   "execution_count": 1,
   "metadata": {},
   "outputs": [],
   "source": [
    "from __future__ import print_function\n",
    "import pandas as pd\n",
    "import numpy as np\n",
    "from sklearn.tree import DecisionTreeClassifier\n",
    "from sklearn.model_selection import train_test_split  \n",
    "from sklearn.metrics import classification_report, confusion_matrix \n",
    "from sklearn.metrics import accuracy_score\n",
    "import matplotlib.pyplot as plt  \n",
    "%matplotlib inline"
   ]
  },
  {
   "cell_type": "markdown",
   "metadata": {},
   "source": [
    "Function for mapping the target column to numerical values needed for decision tree"
   ]
  },
  {
   "cell_type": "code",
   "execution_count": 2,
   "metadata": {},
   "outputs": [],
   "source": [
    "def encode_target(df, target_column):\n",
    "    \"\"\"Add column to dataframe with integers for the target.\n",
    "\n",
    "    Args\n",
    "    ----\n",
    "    df -- pandas DataFrame.\n",
    "    target_column -- column to map to int, producing\n",
    "                     new Target column.\n",
    "\n",
    "    Returns\n",
    "    -------\n",
    "    df_mod -- modified DataFrame.\n",
    "    targets -- list of target names.\n",
    "    \"\"\"\n",
    "    df_mod = df.copy()\n",
    "    targets = df_mod[target_column].unique()\n",
    "    map_to_int = {name: n for n, name in enumerate(targets)}\n",
    "    df_mod[\"Target\"] = df_mod[target_column].replace(map_to_int)\n",
    "\n",
    "    return (df_mod, targets)"
   ]
  },
  {
   "cell_type": "markdown",
   "metadata": {},
   "source": [
    "### Mushrooms Dataset"
   ]
  },
  {
   "cell_type": "code",
   "execution_count": 3,
   "metadata": {},
   "outputs": [],
   "source": [
    "mushroom = pd.read_csv(\"mushroom_numerical.csv\")"
   ]
  },
  {
   "cell_type": "code",
   "execution_count": 4,
   "metadata": {},
   "outputs": [],
   "source": [
    "mushrooms, targets_mush = encode_target(mushroom, \"Class\")"
   ]
  },
  {
   "cell_type": "code",
   "execution_count": 5,
   "metadata": {},
   "outputs": [
    {
     "name": "stdout",
     "output_type": "stream",
     "text": [
      "mushrooms.head()\n",
      "   Target Class\n",
      "0       0     p\n",
      "1       1     e\n",
      "2       1     e\n",
      "3       0     p\n",
      "4       1     e\n",
      "\n",
      "mushrooms.tail()\n",
      "      Target Class\n",
      "5639       1     e\n",
      "5640       1     e\n",
      "5641       1     e\n",
      "5642       0     p\n",
      "5643       0     p\n",
      "\n",
      "mushroom targets\n",
      "['p' 'e']\n",
      "\n"
     ]
    }
   ],
   "source": [
    "print(\"mushrooms.head()\", mushrooms[[\"Target\", \"Class\"]].head(),\n",
    "      sep=\"\\n\", end=\"\\n\\n\")\n",
    "print(\"mushrooms.tail()\", mushrooms[[\"Target\", \"Class\"]].tail(),\n",
    "      sep=\"\\n\", end=\"\\n\\n\")\n",
    "print(\"mushroom targets\", targets_mush, sep=\"\\n\", end=\"\\n\\n\")"
   ]
  },
  {
   "cell_type": "code",
   "execution_count": 6,
   "metadata": {},
   "outputs": [
    {
     "name": "stdout",
     "output_type": "stream",
     "text": [
      "mushroom features:\n",
      "['Cap-shape', ' Cap-surface', ' Cap-color', ' Bruises', ' Odor', ' Gill-attachment', ' Gill-spacing', ' Gill-size', ' Gill-color', ' Stalk-shape', ' Stalk-root', ' Stalk-surface-above-ring', ' Stalk-surface-below-ring', ' Stalk-color-above-ring', ' Stalk-color-below-ring', ' Veil-type', ' Veil-color', ' Ring-number', ' Ring-type', ' Spore-print-color', ' Population']\n"
     ]
    }
   ],
   "source": [
    "features_mush = list(mushrooms.columns[:21])\n",
    "print(\"mushroom features:\", features_mush, sep=\"\\n\")"
   ]
  },
  {
   "cell_type": "code",
   "execution_count": 7,
   "metadata": {},
   "outputs": [],
   "source": [
    "y_mush = mushrooms[\"Target\"]\n",
    "X_mush = mushrooms[features_mush]\n",
    "X_train_mush, X_test_mush, y_train_mush, y_test_mush = train_test_split(X_mush, y_mush, test_size=0.33, random_state=42)"
   ]
  },
  {
   "cell_type": "code",
   "execution_count": 8,
   "metadata": {},
   "outputs": [
    {
     "data": {
      "text/plain": [
       "DecisionTreeClassifier(class_weight=None, criterion='gini', max_depth=3,\n",
       "            max_features=None, max_leaf_nodes=None,\n",
       "            min_impurity_decrease=0.0, min_impurity_split=None,\n",
       "            min_samples_leaf=1, min_samples_split=2,\n",
       "            min_weight_fraction_leaf=0.0, presort=False, random_state=None,\n",
       "            splitter='best')"
      ]
     },
     "execution_count": 8,
     "metadata": {},
     "output_type": "execute_result"
    }
   ],
   "source": [
    "dt_model_mush = DecisionTreeClassifier(max_depth=3)\n",
    "dt_model_mush.fit(X_train_mush, y_train_mush)"
   ]
  },
  {
   "cell_type": "code",
   "execution_count": 9,
   "metadata": {},
   "outputs": [
    {
     "data": {
      "text/plain": [
       "array([0.        , 0.        , 0.        , 0.        , 0.94303746,\n",
       "       0.        , 0.        , 0.        , 0.        , 0.        ,\n",
       "       0.        , 0.        , 0.        , 0.        , 0.        ,\n",
       "       0.        , 0.        , 0.        , 0.        , 0.05696254,\n",
       "       0.        ])"
      ]
     },
     "execution_count": 9,
     "metadata": {},
     "output_type": "execute_result"
    }
   ],
   "source": [
    "y_pred_mush = dt_model_mush.predict(X_test_mush)\n",
    "dt_model_mush.feature_importances_   # Fifth feature almost splits perfectly the samples that's why there is 0.998\n",
    "                                     # accuracy. Consider dropping this feature"
   ]
  },
  {
   "cell_type": "code",
   "execution_count": 10,
   "metadata": {},
   "outputs": [
    {
     "name": "stdout",
     "output_type": "stream",
     "text": [
      "Confusion matrix - Mushroom dataset:\n",
      "[[ 694    3]\n",
      " [   0 1166]]\n",
      "\n",
      "Classification report - Mushroom dataset:\n",
      "             precision    recall  f1-score   support\n",
      "\n",
      "          0       1.00      1.00      1.00       697\n",
      "          1       1.00      1.00      1.00      1166\n",
      "\n",
      "avg / total       1.00      1.00      1.00      1863\n",
      "\n",
      "\n",
      "Accuracy score - Mushroom dataset:\n",
      "0.998389694041868\n",
      "\n"
     ]
    }
   ],
   "source": [
    "print(\"Confusion matrix - Mushroom dataset:\", confusion_matrix(y_test_mush, y_pred_mush),\n",
    "      sep=\"\\n\", end=\"\\n\\n\")  \n",
    "print(\"Classification report - Mushroom dataset:\", classification_report(y_test_mush, y_pred_mush),\n",
    "      sep=\"\\n\", end=\"\\n\\n\") \n",
    "print(\"Accuracy score - Mushroom dataset:\", accuracy_score(y_test_mush, y_pred_mush),\n",
    "      sep=\"\\n\", end=\"\\n\\n\")"
   ]
  },
  {
   "cell_type": "markdown",
   "metadata": {},
   "source": [
    "### Poker Dataset"
   ]
  },
  {
   "cell_type": "code",
   "execution_count": 11,
   "metadata": {},
   "outputs": [],
   "source": [
    "poker = pd.read_csv(\"poker.csv\")"
   ]
  },
  {
   "cell_type": "code",
   "execution_count": 12,
   "metadata": {},
   "outputs": [
    {
     "name": "stdout",
     "output_type": "stream",
     "text": [
      "poker features:\n",
      "['S1', ' C1', ' S2', ' C2', ' S3', ' C3', ' S4', ' C4', ' S5', ' C5']\n"
     ]
    }
   ],
   "source": [
    "features_poker = list(poker.columns[:10])\n",
    "print(\"poker features:\", features_poker, sep=\"\\n\")"
   ]
  },
  {
   "cell_type": "code",
   "execution_count": 13,
   "metadata": {},
   "outputs": [],
   "source": [
    "y_poker = poker[\"Class\"]\n",
    "X_poker = poker[features_poker]\n",
    "X_train_poker, X_test_poker, y_train_poker, y_test_poker = train_test_split(X_poker, y_poker, test_size=0.33, random_state=42)"
   ]
  },
  {
   "cell_type": "code",
   "execution_count": 14,
   "metadata": {},
   "outputs": [
    {
     "data": {
      "text/plain": [
       "DecisionTreeClassifier(class_weight=None, criterion='gini', max_depth=None,\n",
       "            max_features=None, max_leaf_nodes=None,\n",
       "            min_impurity_decrease=0.0, min_impurity_split=None,\n",
       "            min_samples_leaf=1, min_samples_split=2,\n",
       "            min_weight_fraction_leaf=0.0, presort=False, random_state=None,\n",
       "            splitter='best')"
      ]
     },
     "execution_count": 14,
     "metadata": {},
     "output_type": "execute_result"
    }
   ],
   "source": [
    "dt_model_poker = DecisionTreeClassifier()\n",
    "dt_model_poker.fit(X_train_poker, y_train_poker)"
   ]
  },
  {
   "cell_type": "code",
   "execution_count": 15,
   "metadata": {},
   "outputs": [
    {
     "data": {
      "text/plain": [
       "array([0.05506242, 0.13324052, 0.05911712, 0.16016974, 0.05799584,\n",
       "       0.13189375, 0.05942005, 0.14671661, 0.05685611, 0.13952783])"
      ]
     },
     "execution_count": 15,
     "metadata": {},
     "output_type": "execute_result"
    }
   ],
   "source": [
    "y_pred_poker = dt_model_poker.predict(X_test_poker)\n",
    "dt_model_poker.feature_importances_"
   ]
  },
  {
   "cell_type": "code",
   "execution_count": 16,
   "metadata": {},
   "outputs": [
    {
     "name": "stdout",
     "output_type": "stream",
     "text": [
      "Confusion matrix - Poker dataset:\n",
      "[[121761  44010   2087    782    127    705     23      0      1      0]\n",
      " [ 41167  87078   9797   3555    764    167    178     16      1      1]\n",
      " [  1664   8567   5230    510    120      2    160     24      0      0]\n",
      " [   611   2985    527   2815     46      1    146     22      0      0]\n",
      " [   115    702    104     68    352      0      2      2      0      1]\n",
      " [   467    106      4      1      0    115      0      0      0      0]\n",
      " [    11    109    153    124      2      0     63      4      0      0]\n",
      " [     1     15     13     33      0      0      5     18      0      0]\n",
      " [     0      6      1      0      2      1      0      0      0      0]\n",
      " [     0      0      0      1      1      1      0      0      0      0]]\n",
      "\n",
      "Classification report - Poker dataset:\n",
      "             precision    recall  f1-score   support\n",
      "\n",
      "          0       0.73      0.72      0.73    169496\n",
      "          1       0.61      0.61      0.61    142724\n",
      "          2       0.29      0.32      0.31     16277\n",
      "          3       0.36      0.39      0.37      7153\n",
      "          4       0.25      0.26      0.26      1346\n",
      "          5       0.12      0.17      0.14       693\n",
      "          6       0.11      0.14      0.12       466\n",
      "          7       0.21      0.21      0.21        85\n",
      "          8       0.00      0.00      0.00        10\n",
      "          9       0.00      0.00      0.00         3\n",
      "\n",
      "avg / total       0.65      0.64      0.64    338253\n",
      "\n",
      "\n",
      "Accuracy score - Poker dataset:\n",
      "0.642808785140117\n",
      "\n"
     ]
    }
   ],
   "source": [
    "print(\"Confusion matrix - Poker dataset:\", confusion_matrix(y_test_poker, y_pred_poker),\n",
    "      sep=\"\\n\", end=\"\\n\\n\")  \n",
    "print(\"Classification report - Poker dataset:\", classification_report(y_test_poker, y_pred_poker),\n",
    "      sep=\"\\n\", end=\"\\n\\n\") \n",
    "print(\"Accuracy score - Poker dataset:\", accuracy_score(y_test_poker, y_pred_poker),\n",
    "      sep=\"\\n\", end=\"\\n\\n\")"
   ]
  },
  {
   "cell_type": "markdown",
   "metadata": {},
   "source": [
    "### Nursery Dataset"
   ]
  },
  {
   "cell_type": "code",
   "execution_count": 17,
   "metadata": {},
   "outputs": [],
   "source": [
    "nurse = pd.read_csv(\"nursery_numerical.csv\")"
   ]
  },
  {
   "cell_type": "code",
   "execution_count": 18,
   "metadata": {},
   "outputs": [],
   "source": [
    "nursery, targets_nurse = encode_target(nurse, \"Class\")"
   ]
  },
  {
   "cell_type": "code",
   "execution_count": 19,
   "metadata": {},
   "outputs": [
    {
     "name": "stdout",
     "output_type": "stream",
     "text": [
      "nursery.head()\n",
      "   Target       Class\n",
      "0       0   recommend\n",
      "1       1   not_recom\n",
      "2       2    priority\n",
      "3       2    priority\n",
      "4       2    priority\n",
      "\n",
      "nursery.tail()\n",
      "       Target        Class\n",
      "12955       1    not_recom\n",
      "12956       1    not_recom\n",
      "12957       4   spec_prior\n",
      "12958       4   spec_prior\n",
      "12959       1    not_recom\n",
      "\n",
      "nursery targets\n",
      "[' recommend' ' not_recom' ' priority' ' very_recom' ' spec_prior']\n",
      "\n"
     ]
    }
   ],
   "source": [
    "print(\"nursery.head()\", nursery[[\"Target\", \"Class\"]].head(),\n",
    "      sep=\"\\n\", end=\"\\n\\n\")\n",
    "print(\"nursery.tail()\", nursery[[\"Target\", \"Class\"]].tail(),\n",
    "      sep=\"\\n\", end=\"\\n\\n\")\n",
    "print(\"nursery targets\", targets_nurse, sep=\"\\n\", end=\"\\n\\n\")"
   ]
  },
  {
   "cell_type": "code",
   "execution_count": 20,
   "metadata": {},
   "outputs": [
    {
     "name": "stdout",
     "output_type": "stream",
     "text": [
      "nursery features:\n",
      "['Parents', ' Has_nurs', ' Form', ' Children', ' Housing', ' Finance', ' Social', ' Health']\n"
     ]
    }
   ],
   "source": [
    "features_nurse = list(nursery.columns[:8])\n",
    "print(\"nursery features:\", features_nurse, sep=\"\\n\")"
   ]
  },
  {
   "cell_type": "code",
   "execution_count": 21,
   "metadata": {},
   "outputs": [],
   "source": [
    "y_nurse = nursery[\"Target\"]\n",
    "X_nurse = nursery[features_nurse]\n",
    "X_train_nurse, X_test_nurse, y_train_nurse, y_test_nurse = train_test_split(X_nurse, y_nurse, test_size=0.33, random_state=42)"
   ]
  },
  {
   "cell_type": "code",
   "execution_count": 22,
   "metadata": {},
   "outputs": [
    {
     "data": {
      "text/plain": [
       "DecisionTreeClassifier(class_weight=None, criterion='gini', max_depth=4,\n",
       "            max_features=None, max_leaf_nodes=None,\n",
       "            min_impurity_decrease=0.0, min_impurity_split=None,\n",
       "            min_samples_leaf=1, min_samples_split=2,\n",
       "            min_weight_fraction_leaf=0.0, presort=False, random_state=None,\n",
       "            splitter='best')"
      ]
     },
     "execution_count": 22,
     "metadata": {},
     "output_type": "execute_result"
    }
   ],
   "source": [
    "dt_model_nurse = DecisionTreeClassifier(max_depth=4)\n",
    "dt_model_nurse.fit(X_train_nurse, y_train_nurse)"
   ]
  },
  {
   "cell_type": "code",
   "execution_count": 23,
   "metadata": {},
   "outputs": [
    {
     "data": {
      "text/plain": [
       "array([0.15471328, 0.38606291, 0.        , 0.        , 0.04248366,\n",
       "       0.02278821, 0.        , 0.39395194])"
      ]
     },
     "execution_count": 23,
     "metadata": {},
     "output_type": "execute_result"
    }
   ],
   "source": [
    "y_pred_nurse = dt_model_nurse.predict(X_test_nurse)\n",
    "dt_model_nurse.feature_importances_"
   ]
  },
  {
   "cell_type": "code",
   "execution_count": 24,
   "metadata": {},
   "outputs": [
    {
     "name": "stdout",
     "output_type": "stream",
     "text": [
      "Confusion matrix - Nursery dataset:\n",
      "[[   0    0    1    0    0]\n",
      " [   0 1146    0    0  291]\n",
      " [   0  591  672    0  133]\n",
      " [   0    0  102    0    0]\n",
      " [   0  570  108    0  663]]\n",
      "\n",
      "Classification report - Nursery dataset:\n",
      "             precision    recall  f1-score   support\n",
      "\n",
      "          0       0.00      0.00      0.00         1\n",
      "          1       0.50      0.80      0.61      1437\n",
      "          2       0.76      0.48      0.59      1396\n",
      "          3       0.00      0.00      0.00       102\n",
      "          4       0.61      0.49      0.55      1341\n",
      "\n",
      "avg / total       0.61      0.58      0.57      4277\n",
      "\n",
      "\n",
      "Accuracy score - Nursery dataset:\n",
      "0.580079494973112\n",
      "\n"
     ]
    },
    {
     "name": "stderr",
     "output_type": "stream",
     "text": [
      "/home/eleni/anaconda2/lib/python2.7/site-packages/sklearn/metrics/classification.py:1135: UndefinedMetricWarning: Precision and F-score are ill-defined and being set to 0.0 in labels with no predicted samples.\n",
      "  'precision', 'predicted', average, warn_for)\n"
     ]
    }
   ],
   "source": [
    "print(\"Confusion matrix - Nursery dataset:\", confusion_matrix(y_test_nurse, y_pred_nurse),\n",
    "      sep=\"\\n\", end=\"\\n\\n\")  \n",
    "print(\"Classification report - Nursery dataset:\", classification_report(y_test_nurse, y_pred_nurse),\n",
    "      sep=\"\\n\", end=\"\\n\\n\") \n",
    "print(\"Accuracy score - Nursery dataset:\", accuracy_score(y_test_nurse, y_pred_nurse),\n",
    "      sep=\"\\n\", end=\"\\n\\n\")"
   ]
  },
  {
   "cell_type": "code",
   "execution_count": null,
   "metadata": {},
   "outputs": [],
   "source": []
  }
 ],
 "metadata": {
  "kernelspec": {
   "display_name": "Python 2",
   "language": "python",
   "name": "python2"
  },
  "language_info": {
   "codemirror_mode": {
    "name": "ipython",
    "version": 2
   },
   "file_extension": ".py",
   "mimetype": "text/x-python",
   "name": "python",
   "nbconvert_exporter": "python",
   "pygments_lexer": "ipython2",
   "version": "2.7.15"
  }
 },
 "nbformat": 4,
 "nbformat_minor": 2
}
