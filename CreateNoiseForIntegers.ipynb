{
 "cells": [
  {
   "cell_type": "code",
   "execution_count": 1,
   "metadata": {},
   "outputs": [],
   "source": [
    "import pandas as pd\n",
    "import numpy as np\n",
    "from sklearn.svm import SVC\n",
    "from sklearn.model_selection import train_test_split  \n",
    "from sklearn.metrics import classification_report, confusion_matrix \n",
    "from sklearn.metrics import accuracy_score\n",
    "from sklearn.svm import SVC\n",
    "from sklearn.preprocessing import MinMaxScaler\n",
    "import matplotlib.pyplot as plt\n",
    "import itertools\n",
    "from sklearn.model_selection import KFold\n",
    "%matplotlib inline\n",
    "import itertools\n",
    "import scipy.stats as ss\n",
    "import numpy as np\n",
    "import matplotlib.pyplot as plt"
   ]
  },
  {
   "cell_type": "code",
   "execution_count": null,
   "metadata": {},
   "outputs": [],
   "source": [
    "nursery = pd.read_csv(\"nursery_numerical.csv\", sep=',')\n",
    "data_nursery = nursery.iloc[:,0:8]\n",
    "labels_nursery = nursery.iloc[:,8]\n",
    "# data_nursery.shape\n",
    "# print(len(data_nursery))"
   ]
  },
  {
   "cell_type": "code",
   "execution_count": null,
   "metadata": {},
   "outputs": [],
   "source": [
    "market = pd.read_csv(\"marketing_numerical.csv\", sep=',')\n",
    "data_market = market.iloc[:,0:13]\n",
    "labels_market = market.iloc[:,13]\n",
    "# data_market.shape\n",
    "# print (len(data_market))"
   ]
  },
  {
   "cell_type": "code",
   "execution_count": null,
   "metadata": {},
   "outputs": [],
   "source": [
    "poker = pd.read_csv(\"poker.csv\", sep=',')\n",
    "poker = poker.head(200000)\n",
    "data_poker = poker.iloc[:,0:10]\n",
    "labels_poker = poker.iloc[:,10]\n",
    "# data_poker.shape\n",
    "# print (len(data_poker))"
   ]
  },
  {
   "cell_type": "code",
   "execution_count": 2,
   "metadata": {},
   "outputs": [
    {
     "name": "stdout",
     "output_type": "stream",
     "text": [
      "5644\n"
     ]
    }
   ],
   "source": [
    "mushroom = pd.read_csv(\"mushroom_numerical.csv\", sep=',')\n",
    "data_mushroom = mushroom.iloc[:,0:22]\n",
    "labels_mushroom = mushroom.iloc[:,22]\n",
    "data_mushroom.shape\n",
    "print (len(data_mushroom))"
   ]
  },
  {
   "cell_type": "code",
   "execution_count": 3,
   "metadata": {},
   "outputs": [],
   "source": [
    "def noise(size, min, max):\n",
    "    x = np.arange(min, max)\n",
    "    # print (x)\n",
    "    xU, xL = x + 0.5, x - 0.5 \n",
    "    prob = ss.norm.cdf(xU, scale = 3) - ss.norm.cdf(xL, scale = 3)\n",
    "    prob = prob / prob.sum() #normalize the probabilities so their sum is 1\n",
    "    nums = np.random.choice(x, size = size, p = prob)\n",
    "    # plt.hist(nums, bins = len(x))\n",
    "    return nums"
   ]
  },
  {
   "cell_type": "markdown",
   "metadata": {},
   "source": [
    "## 10% Noise for Nursery Dataset"
   ]
  },
  {
   "cell_type": "code",
   "execution_count": null,
   "metadata": {},
   "outputs": [],
   "source": [
    "nums = noise(10368, -8, 7)\n",
    "i=0\n",
    "count=0\n",
    "for k in range(0,len(data_nursery),10):\n",
    "    data2 = nums[i:i+8]\n",
    "    data_nursery.loc[k] = data2\n",
    "    count+=1\n",
    "    i+=8\n",
    "# print (count)\n",
    "df = pd.concat([data_nursery, labels_nursery], axis=1)\n",
    "df.to_csv(\"newNursery10noise.csv\", sep=',')"
   ]
  },
  {
   "cell_type": "markdown",
   "metadata": {},
   "source": [
    "## 20% Noise for Nursery Dataset"
   ]
  },
  {
   "cell_type": "code",
   "execution_count": null,
   "metadata": {},
   "outputs": [],
   "source": [
    "nums = noise(20736, -8, 7)\n",
    "i=0\n",
    "count=0\n",
    "for k in range(0,len(data_nursery),5):\n",
    "    data2 = nums[i:i+8]\n",
    "    data_nursery.loc[k] = data2\n",
    "    count+=1\n",
    "    i+=8\n",
    "# print (count)\n",
    "df = pd.concat([data_nursery, labels_nursery], axis=1)\n",
    "df.to_csv(\"newNursery20noise.csv\", sep=',')"
   ]
  },
  {
   "cell_type": "markdown",
   "metadata": {},
   "source": [
    "## 33% Noise for Nursery Dataset¶"
   ]
  },
  {
   "cell_type": "code",
   "execution_count": null,
   "metadata": {},
   "outputs": [],
   "source": [
    "nums = noise(36288, -8, 7)\n",
    "i=0\n",
    "count=0\n",
    "for k in range(0,len(data_nursery),3):\n",
    "    data2 = nums[i:i+8]\n",
    "    data_nursery.loc[k] = data2\n",
    "    count+=1\n",
    "    i+=8\n",
    "# print (count)\n",
    "df = pd.concat([data_nursery, labels_nursery], axis=1)\n",
    "df.to_csv(\"newNursery33noise.csv\", sep=',')"
   ]
  },
  {
   "cell_type": "markdown",
   "metadata": {},
   "source": [
    "## 10% Noise for Marketing Dataset"
   ]
  },
  {
   "cell_type": "code",
   "execution_count": null,
   "metadata": {},
   "outputs": [],
   "source": [
    "nums = noise(8944, -8, 7)\n",
    "i=0\n",
    "count=0\n",
    "for k in range(0,len(data_market),10):\n",
    "    data2 = nums[i:i+13]\n",
    "    data_market.loc[k] = data2\n",
    "    count+=1\n",
    "    i+=13\n",
    "# print (count)\n",
    "df = pd.concat([data_market, labels_market], axis=1)\n",
    "df.to_csv(\"newMarket10noise.csv\", sep=',')"
   ]
  },
  {
   "cell_type": "markdown",
   "metadata": {},
   "source": [
    "## 20% Noise for Marketing Dataset"
   ]
  },
  {
   "cell_type": "code",
   "execution_count": null,
   "metadata": {},
   "outputs": [],
   "source": [
    "nums = noise(17875, -8, 7)\n",
    "i=0\n",
    "count=0\n",
    "for k in range(0,len(data_market),6):\n",
    "    data2 = nums[i:i+13]\n",
    "    data_market.loc[k] = data2\n",
    "    count+=1\n",
    "    i+=13\n",
    "# print (count)\n",
    "df = pd.concat([data_market, labels_market], axis=1)\n",
    "df.to_csv(\"newMarket20noise.csv\", sep=',')"
   ]
  },
  {
   "cell_type": "markdown",
   "metadata": {},
   "source": [
    "## 33% Noise for Marketing Dataset"
   ]
  },
  {
   "cell_type": "code",
   "execution_count": null,
   "metadata": {},
   "outputs": [],
   "source": [
    "nums = noise(31278, -8, 7)\n",
    "i=0\n",
    "count=0\n",
    "for k in range(0,len(data_market),3):\n",
    "    data2 = nums[i:i+13]\n",
    "    data_market.loc[k] = data2\n",
    "    count+=1\n",
    "    i+=13\n",
    "# print (count)\n",
    "df = pd.concat([data_market, labels_market], axis=1)\n",
    "df.to_csv(\"newMarket33noise.csv\", sep=',')"
   ]
  },
  {
   "cell_type": "markdown",
   "metadata": {},
   "source": [
    "## 10% Noise for Poker Dataset"
   ]
  },
  {
   "cell_type": "code",
   "execution_count": null,
   "metadata": {},
   "outputs": [],
   "source": [
    "nums = noise(200000, -40, 39)\n",
    "i=0\n",
    "count=0\n",
    "for k in range(0,len(data_poker),10):\n",
    "    data2 = nums[i:i+10]\n",
    "    data_poker.loc[k] = data2\n",
    "    count+=1\n",
    "    i+=10\n",
    "# print (count)\n",
    "df = pd.concat([data_poker, labels_poker], axis=1)\n",
    "df.to_csv(\"newPoker10noise.csv\", sep=',')"
   ]
  },
  {
   "cell_type": "markdown",
   "metadata": {},
   "source": [
    "## 20% Noise for Poker Dataset"
   ]
  },
  {
   "cell_type": "code",
   "execution_count": null,
   "metadata": {},
   "outputs": [],
   "source": [
    "nums = noise(400000, -40, 39)\n",
    "i=0\n",
    "count=0\n",
    "for k in range(0,len(data_poker),5):\n",
    "    data2 = nums[i:i+10]\n",
    "    data_poker.loc[k] = data2\n",
    "    count+=1\n",
    "    i+=10\n",
    "df = pd.concat([data_poker, labels_poker], axis=1)\n",
    "df.to_csv(\"newPoker20noise.csv\", sep=',')"
   ]
  },
  {
   "cell_type": "markdown",
   "metadata": {},
   "source": [
    "## 33% Noise for Poker Dataset"
   ]
  },
  {
   "cell_type": "code",
   "execution_count": null,
   "metadata": {},
   "outputs": [],
   "source": [
    "nums = noise(700000, -40, 39)\n",
    "i=0\n",
    "count=0\n",
    "for k in range(0,len(data_poker),3):\n",
    "    data2 = nums[i:i+10]\n",
    "    data_poker.loc[k] = data2\n",
    "    count+=1\n",
    "    i+=10\n",
    "df = pd.concat([data_poker, labels_poker], axis=1)\n",
    "df.to_csv(\"newPoker33noise.csv\", sep=',')"
   ]
  },
  {
   "cell_type": "markdown",
   "metadata": {},
   "source": [
    "## 9% Noise for Mushroom Dataset"
   ]
  },
  {
   "cell_type": "code",
   "execution_count": 4,
   "metadata": {},
   "outputs": [
    {
     "name": "stdout",
     "output_type": "stream",
     "text": [
      "514\n"
     ]
    }
   ],
   "source": [
    "nums = noise(12408, -7, 6)\n",
    "i=0\n",
    "count=0\n",
    "for k in range(0,len(data_mushroom),11):\n",
    "    data2 = nums[i:i+22]\n",
    "    data_mushroom.loc[k] = data2\n",
    "    count+=1\n",
    "    i+=22\n",
    "print (count)\n",
    "df = pd.concat([data_mushroom, labels_mushroom], axis=1)\n",
    "df.to_csv(\"newMushroom9noise.csv\", sep=',')"
   ]
  },
  {
   "cell_type": "markdown",
   "metadata": {},
   "source": [
    "## 20% Noise for Mushroom Dataset"
   ]
  },
  {
   "cell_type": "code",
   "execution_count": 5,
   "metadata": {},
   "outputs": [
    {
     "name": "stdout",
     "output_type": "stream",
     "text": [
      "1129\n"
     ]
    }
   ],
   "source": [
    "nums = noise(25816, -7, 6)\n",
    "i=0\n",
    "count=0\n",
    "for k in range(0,len(data_mushroom),5):\n",
    "    data2 = nums[i:i+22]\n",
    "    data_mushroom.loc[k] = data2\n",
    "    count+=1\n",
    "    i+=22\n",
    "print (count)\n",
    "df = pd.concat([data_mushroom, labels_mushroom], axis=1)\n",
    "df.to_csv(\"newMushroom20noise.csv\", sep=',')"
   ]
  },
  {
   "cell_type": "markdown",
   "metadata": {},
   "source": [
    "## 33% Noise for Mushroom Dataset"
   ]
  },
  {
   "cell_type": "code",
   "execution_count": 6,
   "metadata": {},
   "outputs": [
    {
     "name": "stdout",
     "output_type": "stream",
     "text": [
      "1882\n"
     ]
    }
   ],
   "source": [
    "nums = noise(43450, -7, 6)\n",
    "i=0\n",
    "count=0\n",
    "for k in range(0,len(data_mushroom),3):\n",
    "    data2 = nums[i:i+22]\n",
    "    data_mushroom.loc[k] = data2\n",
    "    count+=1\n",
    "    i+=22\n",
    "print (count)\n",
    "df = pd.concat([data_mushroom, labels_mushroom], axis=1)\n",
    "df.to_csv(\"newMushroom33noise.csv\", sep=',')"
   ]
  },
  {
   "cell_type": "code",
   "execution_count": null,
   "metadata": {},
   "outputs": [],
   "source": [
    "# x = np.arange(-7, 6)\n",
    "# # print (x)\n",
    "# xU, xL = x + 0.5, x - 0.5 \n",
    "# prob = ss.norm.cdf(xU, scale = 3) - ss.norm.cdf(xL, scale = 3)\n",
    "# prob = prob / prob.sum() #normalize the probabilities so their sum is 1\n",
    "# nums = np.random.choice(x, size = 12408, p = prob)\n",
    "# plt.hist(nums, bins = len(x))"
   ]
  },
  {
   "cell_type": "code",
   "execution_count": null,
   "metadata": {},
   "outputs": [],
   "source": []
  }
 ],
 "metadata": {
  "kernelspec": {
   "display_name": "Python 3",
   "language": "python",
   "name": "python3"
  },
  "language_info": {
   "codemirror_mode": {
    "name": "ipython",
    "version": 3
   },
   "file_extension": ".py",
   "mimetype": "text/x-python",
   "name": "python",
   "nbconvert_exporter": "python",
   "pygments_lexer": "ipython3",
   "version": "3.7.1"
  }
 },
 "nbformat": 4,
 "nbformat_minor": 2
}
