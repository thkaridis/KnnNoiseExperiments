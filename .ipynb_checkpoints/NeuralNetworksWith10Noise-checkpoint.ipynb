{
 "cells": [
  {
   "cell_type": "code",
   "execution_count": 1,
   "metadata": {},
   "outputs": [
    {
     "name": "stderr",
     "output_type": "stream",
     "text": [
      "Using TensorFlow backend.\n"
     ]
    }
   ],
   "source": [
    "import numpy as np\n",
    "import pandas as pd\n",
    "import keras\n",
    "import tensorflow as tf\n",
    "import pickle as pickle\n",
    "from keras.utils import np_utils\n",
    "from keras import optimizers\n",
    "from keras.models import Sequential\n",
    "from keras.layers import Dense, Flatten\n",
    "from sklearn.model_selection import KFold\n",
    "from sklearn.preprocessing import LabelEncoder \n",
    "from keras.utils import to_categorical\n",
    "import matplotlib.pyplot as plt\n",
    "import csv"
   ]
  },
  {
   "cell_type": "code",
   "execution_count": 2,
   "metadata": {},
   "outputs": [],
   "source": [
    "from numpy.random import seed\n",
    "seed(1)\n",
    "from tensorflow import set_random_seed\n",
    "set_random_seed(2)"
   ]
  },
  {
   "cell_type": "code",
   "execution_count": 3,
   "metadata": {},
   "outputs": [
    {
     "data": {
      "text/plain": [
       "(106, 7)"
      ]
     },
     "execution_count": 3,
     "metadata": {},
     "output_type": "execute_result"
    }
   ],
   "source": [
    "df = pd.read_csv(\"appendicitis10noise.csv\", sep=',')\n",
    "data = df.iloc[:,1:8]\n",
    "labels = df.iloc[:,8]\n",
    "data.shape"
   ]
  },
  {
   "cell_type": "code",
   "execution_count": 4,
   "metadata": {},
   "outputs": [],
   "source": [
    "kf = KFold(n_splits=2, shuffle=True) #5 fores me 2 folds"
   ]
  },
  {
   "cell_type": "markdown",
   "metadata": {},
   "source": [
    "### Appendicitis Dataset"
   ]
  },
  {
   "cell_type": "code",
   "execution_count": 5,
   "metadata": {},
   "outputs": [
    {
     "name": "stdout",
     "output_type": "stream",
     "text": [
      "53/53 [==============================] - 0s 581us/step\n",
      "accuracy:  0.9056603773584906\n",
      "53/53 [==============================] - 0s 828us/step\n",
      "accuracy:  0.6792452852680998\n",
      "53/53 [==============================] - 0s 1ms/step\n",
      "accuracy:  0.7735849067849933\n",
      "53/53 [==============================] - 0s 1ms/step\n",
      "accuracy:  0.3018867949832161\n",
      "53/53 [==============================] - 0s 2ms/step\n",
      "accuracy:  0.15094339657785757\n",
      "53/53 [==============================] - 0s 2ms/step\n",
      "accuracy:  0.6981132109210176\n",
      "53/53 [==============================] - 0s 2ms/step\n",
      "accuracy:  0.4339622692117151\n",
      "53/53 [==============================] - 0s 3ms/step\n",
      "accuracy:  0.3018867975136019\n",
      "53/53 [==============================] - 0s 3ms/step\n",
      "accuracy:  0.8113207547169812\n",
      "53/53 [==============================] - 0s 4ms/step\n",
      "accuracy:  0.20754717016276322\n"
     ]
    }
   ],
   "source": [
    "acc =[]\n",
    "acc.append(\"Appendicitis\")\n",
    "for i in range(5):\n",
    "    for train_index, test_index in kf.split(df):\n",
    "        X_train, X_test = data.iloc[train_index], data.iloc[test_index]\n",
    "        y_train, y_test = labels[train_index], labels[test_index]\n",
    "        all_labels = pd.concat([y_train, y_test], axis=0)\n",
    "        neural = Sequential()\n",
    "        neural.add(Dense(7, activation='relu', input_dim=7)) \n",
    "        neural.add(Dense(5, activation='relu'))  # Create hidden layers\n",
    "        neural.add(Dense(1, activation='sigmoid')) # Create output layer\n",
    "        neural.compile(loss='binary_crossentropy', optimizer='adam', metrics=['accuracy']) # Compile the baseline\n",
    "        model_fit = neural.fit(X_train, y_train, shuffle=True, verbose=0) # Train the baseline\n",
    "        score = neural.evaluate(X_test, y_test)\n",
    "        print \"accuracy: \", score[1]\n",
    "        acc.append(score[1])"
   ]
  },
  {
   "cell_type": "markdown",
   "metadata": {},
   "source": [
    "### Mushroom Dataset"
   ]
  },
  {
   "cell_type": "code",
   "execution_count": 6,
   "metadata": {},
   "outputs": [],
   "source": [
    "df = pd.read_csv(\"newMushroom10noise.csv\", sep=',')\n",
    "df['Class'] = pd.factorize(df['Class'])[0]\n",
    "data = df.iloc[:,1:23]\n",
    "labels = df.iloc[:,23]"
   ]
  },
  {
   "cell_type": "code",
   "execution_count": 7,
   "metadata": {},
   "outputs": [
    {
     "name": "stdout",
     "output_type": "stream",
     "text": [
      "2822/2822 [==============================] - 0s 90us/step\n",
      "accuracy:  0.8047484053862509\n",
      "2822/2822 [==============================] - 0s 99us/step\n",
      "accuracy:  0.8295535081080052\n",
      "2822/2822 [==============================] - 0s 106us/step\n",
      "accuracy:  0.8373493976326043\n",
      "2822/2822 [==============================] - 0s 111us/step\n",
      "accuracy:  0.8639262934089298\n",
      "2822/2822 [==============================] - 0s 132us/step\n",
      "accuracy:  0.6785967399430224\n",
      "2822/2822 [==============================] - 0s 131us/step\n",
      "accuracy:  0.8146704464918497\n",
      "2822/2822 [==============================] - 0s 135us/step\n",
      "accuracy:  0.8320340184688906\n",
      "2822/2822 [==============================] - 0s 150us/step\n",
      "accuracy:  0.813607370659107\n",
      "2822/2822 [==============================] - 0s 160us/step\n",
      "accuracy:  0.8408929836995039\n",
      "2822/2822 [==============================] - 0s 167us/step\n",
      "accuracy:  0.8040396881644224\n"
     ]
    }
   ],
   "source": [
    "acc.append(\"Mushroom\")\n",
    "for i in range(5):\n",
    "    for train_index, test_index in kf.split(df):\n",
    "        X_train, X_test = data.iloc[train_index], data.iloc[test_index]\n",
    "        y_train, y_test = labels[train_index], labels[test_index]\n",
    "        all_labels = pd.concat([y_train, y_test], axis=0)\n",
    "        neural = Sequential()\n",
    "        neural.add(Dense(22, activation='relu', input_dim=22)) \n",
    "        neural.add(Dense(5, activation='relu'))  # Create hidden layers\n",
    "        neural.add(Dense(1, activation='sigmoid')) # Create output layer\n",
    "        neural.compile(loss='binary_crossentropy', optimizer='adam', metrics=['accuracy']) # Compile the baseline\n",
    "        model_fit = neural.fit(X_train, y_train, shuffle=True, verbose=0) # Train the baseline\n",
    "        score = neural.evaluate(X_test, y_test)\n",
    "        print \"accuracy: \", score[1]\n",
    "        acc.append(score[1])"
   ]
  },
  {
   "cell_type": "markdown",
   "metadata": {},
   "source": [
    "### Glass Dataset"
   ]
  },
  {
   "cell_type": "code",
   "execution_count": 8,
   "metadata": {},
   "outputs": [],
   "source": [
    "df = pd.read_csv(\"glass10noise.csv\")\n",
    "data = df.iloc[:,1:10]\n",
    "first_labels = df.iloc[:,10]"
   ]
  },
  {
   "cell_type": "code",
   "execution_count": 9,
   "metadata": {},
   "outputs": [],
   "source": [
    "labels = np.zeros((214, 8))\n",
    "for i in range(214):  \n",
    "    labels[i, first_labels[i]] = 1"
   ]
  },
  {
   "cell_type": "code",
   "execution_count": 10,
   "metadata": {},
   "outputs": [
    {
     "name": "stdout",
     "output_type": "stream",
     "text": [
      "107/107 [==============================] - 0s 4ms/step\n",
      "accuracy:  0.32710280373831774\n",
      "107/107 [==============================] - 0s 5ms/step\n",
      "accuracy:  0.08411214953271028\n",
      "107/107 [==============================] - 0s 5ms/step\n",
      "accuracy:  0.3644859813084112\n",
      "107/107 [==============================] - 1s 5ms/step\n",
      "accuracy:  0.0\n",
      "107/107 [==============================] - 1s 5ms/step\n",
      "accuracy:  0.37383177570093457\n",
      "107/107 [==============================] - 1s 5ms/step\n",
      "accuracy:  0.0\n",
      "107/107 [==============================] - 1s 6ms/step\n",
      "accuracy:  0.14953271028037382\n",
      "107/107 [==============================] - 1s 6ms/step\n",
      "accuracy:  0.0\n",
      "107/107 [==============================] - 1s 7ms/step\n",
      "accuracy:  0.04672897196261682\n",
      "107/107 [==============================] - 1s 7ms/step\n",
      "accuracy:  0.37383177570093457\n"
     ]
    }
   ],
   "source": [
    "acc.append(\"Glass\")\n",
    "for i in range(5):\n",
    "    for train_index, test_index in kf.split(df):\n",
    "        X_train, X_test = data.iloc[train_index], data.iloc[test_index]\n",
    "        y_train, y_test = labels[train_index], labels[test_index]\n",
    "        neural = Sequential()\n",
    "        neural.add(Dense(9, activation='relu', input_dim=9)) \n",
    "        neural.add(Dense(5, activation='relu'))  # Create hidden layers\n",
    "        neural.add(Dense(8, activation='softmax')) # Create output layer\n",
    "        neural.compile(loss='categorical_crossentropy', optimizer='adam', metrics=['accuracy']) # Compile the baseline\n",
    "        model_fit = neural.fit(X_train, y_train, shuffle=True, verbose=0) # Train the baseline\n",
    "        score = neural.evaluate(X_test, y_test)\n",
    "        print \"accuracy: \", score[1]\n",
    "        acc.append(score[1])"
   ]
  },
  {
   "cell_type": "code",
   "execution_count": 11,
   "metadata": {},
   "outputs": [
    {
     "name": "stdout",
     "output_type": "stream",
     "text": [
      "['Appendicitis', 0.9056603773584906, 0.6792452852680998, 0.7735849067849933, 0.3018867949832161, 0.15094339657785757, 0.6981132109210176, 0.4339622692117151, 0.3018867975136019, 0.8113207547169812, 0.20754717016276322, 'Mushroom', 0.8047484053862509, 0.8295535081080052, 0.8373493976326043, 0.8639262934089298, 0.6785967399430224, 0.8146704464918497, 0.8320340184688906, 0.813607370659107, 0.8408929836995039, 0.8040396881644224, 'Glass', 0.32710280373831774, 0.08411214953271028, 0.3644859813084112, 0.0, 0.37383177570093457, 0.0, 0.14953271028037382, 0.0, 0.04672897196261682, 0.37383177570093457]\n"
     ]
    }
   ],
   "source": [
    "print acc\n",
    "\n",
    "with open(\"accNeuralNetworksWith10Noise.csv\", 'wb') as myfile:\n",
    "    wr = csv.writer(myfile, delimiter='\\n')\n",
    "    wr.writerow(acc)"
   ]
  },
  {
   "cell_type": "code",
   "execution_count": null,
   "metadata": {},
   "outputs": [],
   "source": []
  }
 ],
 "metadata": {
  "kernelspec": {
   "display_name": "Python 2",
   "language": "python",
   "name": "python2"
  },
  "language_info": {
   "codemirror_mode": {
    "name": "ipython",
    "version": 2
   },
   "file_extension": ".py",
   "mimetype": "text/x-python",
   "name": "python",
   "nbconvert_exporter": "python",
   "pygments_lexer": "ipython2",
   "version": "2.7.15"
  }
 },
 "nbformat": 4,
 "nbformat_minor": 2
}
