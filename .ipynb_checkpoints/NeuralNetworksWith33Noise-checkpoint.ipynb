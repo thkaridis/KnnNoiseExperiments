{
 "cells": [
  {
   "cell_type": "code",
   "execution_count": 1,
   "metadata": {},
   "outputs": [
    {
     "name": "stderr",
     "output_type": "stream",
     "text": [
      "Using TensorFlow backend.\n"
     ]
    }
   ],
   "source": [
    "import numpy as np\n",
    "import pandas as pd\n",
    "import keras\n",
    "import tensorflow as tf\n",
    "import pickle as pickle\n",
    "from keras.utils import np_utils\n",
    "from keras import optimizers\n",
    "from keras.models import Sequential\n",
    "from keras.layers import Dense, Flatten\n",
    "from sklearn.model_selection import KFold\n",
    "from sklearn.preprocessing import LabelEncoder \n",
    "from keras.utils import to_categorical\n",
    "import matplotlib.pyplot as plt\n",
    "import csv"
   ]
  },
  {
   "cell_type": "code",
   "execution_count": 2,
   "metadata": {},
   "outputs": [],
   "source": [
    "from numpy.random import seed\n",
    "seed(1)\n",
    "from tensorflow import set_random_seed\n",
    "set_random_seed(2)"
   ]
  },
  {
   "cell_type": "code",
   "execution_count": 3,
   "metadata": {},
   "outputs": [
    {
     "data": {
      "text/plain": [
       "(106, 7)"
      ]
     },
     "execution_count": 3,
     "metadata": {},
     "output_type": "execute_result"
    }
   ],
   "source": [
    "df = pd.read_csv(\"appendicitis33noise.csv\", sep=',')\n",
    "data = df.iloc[:,1:8]\n",
    "labels = df.iloc[:,8]\n",
    "data.shape"
   ]
  },
  {
   "cell_type": "code",
   "execution_count": 4,
   "metadata": {},
   "outputs": [],
   "source": [
    "kf = KFold(n_splits=2, shuffle=True) #5 fores me 2 folds"
   ]
  },
  {
   "cell_type": "markdown",
   "metadata": {},
   "source": [
    "### Appendicitis Dataset"
   ]
  },
  {
   "cell_type": "code",
   "execution_count": 5,
   "metadata": {},
   "outputs": [
    {
     "name": "stdout",
     "output_type": "stream",
     "text": [
      "53/53 [==============================] - 0s 600us/step\n",
      "accuracy:  0.8679245294265028\n",
      "53/53 [==============================] - 0s 834us/step\n",
      "accuracy:  0.7169811343247036\n",
      "53/53 [==============================] - 0s 1ms/step\n",
      "accuracy:  0.830188680369899\n",
      "53/53 [==============================] - 0s 1ms/step\n",
      "accuracy:  0.3207547220419038\n",
      "53/53 [==============================] - 0s 2ms/step\n",
      "accuracy:  0.1320754716981132\n",
      "53/53 [==============================] - 0s 2ms/step\n",
      "accuracy:  0.7358490588530054\n",
      "53/53 [==============================] - 0s 3ms/step\n",
      "accuracy:  0.47169811714370297\n",
      "53/53 [==============================] - 0s 3ms/step\n",
      "accuracy:  0.33962264544558973\n",
      "53/53 [==============================] - 0s 3ms/step\n",
      "accuracy:  0.8113207547169812\n",
      "53/53 [==============================] - 0s 4ms/step\n",
      "accuracy:  0.3018867938586001\n"
     ]
    }
   ],
   "source": [
    "acc =[]\n",
    "acc.append(\"Appendicitis\")\n",
    "for i in range(5):\n",
    "    for train_index, test_index in kf.split(df):\n",
    "        X_train, X_test = data.iloc[train_index], data.iloc[test_index]\n",
    "        y_train, y_test = labels[train_index], labels[test_index]\n",
    "        all_labels = pd.concat([y_train, y_test], axis=0)\n",
    "        neural = Sequential()\n",
    "        neural.add(Dense(7, activation='relu', input_dim=7)) \n",
    "        neural.add(Dense(5, activation='relu'))  # Create hidden layers\n",
    "        neural.add(Dense(1, activation='sigmoid')) # Create output layer\n",
    "        neural.compile(loss='binary_crossentropy', optimizer='adam', metrics=['accuracy']) # Compile the baseline\n",
    "        model_fit = neural.fit(X_train, y_train, shuffle=True, verbose=0) # Train the baseline\n",
    "        score = neural.evaluate(X_test, y_test)\n",
    "        print \"accuracy: \", score[1]\n",
    "        acc.append(score[1])"
   ]
  },
  {
   "cell_type": "markdown",
   "metadata": {},
   "source": [
    "### Mushroom Dataset"
   ]
  },
  {
   "cell_type": "code",
   "execution_count": 7,
   "metadata": {},
   "outputs": [],
   "source": [
    "df = pd.read_csv(\"newMushroom33noise.csv\", sep=',')\n",
    "df['Class'] = pd.factorize(df['Class'])[0]\n",
    "data = df.iloc[:,1:23]\n",
    "labels = df.iloc[:,23]"
   ]
  },
  {
   "cell_type": "code",
   "execution_count": 8,
   "metadata": {},
   "outputs": [
    {
     "name": "stdout",
     "output_type": "stream",
     "text": [
      "2822/2822 [==============================] - 0s 97us/step\n",
      "accuracy:  0.6162296244221153\n",
      "2822/2822 [==============================] - 0s 99us/step\n",
      "accuracy:  0.684975194897236\n",
      "2822/2822 [==============================] - 0s 130us/step\n",
      "accuracy:  0.663359319631467\n",
      "2822/2822 [==============================] - 0s 126us/step\n",
      "accuracy:  0.6846208362440789\n",
      "2822/2822 [==============================] - 0s 128us/step\n",
      "accuracy:  0.6502480510276399\n",
      "2822/2822 [==============================] - 0s 135us/step\n",
      "accuracy:  0.6658398299501096\n",
      "2822/2822 [==============================] - 0s 153us/step\n",
      "accuracy:  0.6640680368532955\n",
      "2822/2822 [==============================] - 1s 187us/step\n",
      "accuracy:  0.6754075124236728\n",
      "2822/2822 [==============================] - 0s 160us/step\n",
      "accuracy:  0.6991495393338059\n",
      "2822/2822 [==============================] - 0s 174us/step\n",
      "accuracy:  0.6743444365698087\n"
     ]
    }
   ],
   "source": [
    "acc.append(\"Mushroom\")\n",
    "for i in range(5):\n",
    "    for train_index, test_index in kf.split(df):\n",
    "        X_train, X_test = data.iloc[train_index], data.iloc[test_index]\n",
    "        y_train, y_test = labels[train_index], labels[test_index]\n",
    "        all_labels = pd.concat([y_train, y_test], axis=0)\n",
    "        neural = Sequential()\n",
    "        neural.add(Dense(22, activation='relu', input_dim=22)) \n",
    "        neural.add(Dense(5, activation='relu'))  # Create hidden layers\n",
    "        neural.add(Dense(1, activation='sigmoid')) # Create output layer\n",
    "        neural.compile(loss='binary_crossentropy', optimizer='adam', metrics=['accuracy']) # Compile the baseline\n",
    "        model_fit = neural.fit(X_train, y_train, shuffle=True, verbose=0) # Train the baseline\n",
    "        score = neural.evaluate(X_test, y_test)\n",
    "        print \"accuracy: \", score[1]\n",
    "        acc.append(score[1])"
   ]
  },
  {
   "cell_type": "markdown",
   "metadata": {},
   "source": [
    "### Glass Dataset"
   ]
  },
  {
   "cell_type": "code",
   "execution_count": 9,
   "metadata": {},
   "outputs": [],
   "source": [
    "df = pd.read_csv(\"glass33noise.csv\")\n",
    "data = df.iloc[:,1:10]\n",
    "first_labels = df.iloc[:,10]"
   ]
  },
  {
   "cell_type": "code",
   "execution_count": 10,
   "metadata": {},
   "outputs": [],
   "source": [
    "labels = np.zeros((214, 8))\n",
    "for i in range(214):  \n",
    "    labels[i, first_labels[i]] = 1"
   ]
  },
  {
   "cell_type": "code",
   "execution_count": 11,
   "metadata": {},
   "outputs": [
    {
     "name": "stdout",
     "output_type": "stream",
     "text": [
      "107/107 [==============================] - 1s 5ms/step\n",
      "accuracy:  0.3364485981308411\n",
      "107/107 [==============================] - 1s 5ms/step\n",
      "accuracy:  0.08411214953271028\n",
      "107/107 [==============================] - 0s 5ms/step\n",
      "accuracy:  0.3644859813084112\n",
      "107/107 [==============================] - 1s 5ms/step\n",
      "accuracy:  0.0\n",
      "107/107 [==============================] - 1s 5ms/step\n",
      "accuracy:  0.37383177570093457\n",
      "107/107 [==============================] - 1s 5ms/step\n",
      "accuracy:  0.0\n",
      "107/107 [==============================] - 1s 7ms/step\n",
      "accuracy:  0.14953271028037382\n",
      "107/107 [==============================] - 1s 6ms/step\n",
      "accuracy:  0.0\n",
      "107/107 [==============================] - 1s 6ms/step\n",
      "accuracy:  0.04672897196261682\n",
      "107/107 [==============================] - 1s 6ms/step\n",
      "accuracy:  0.37383177570093457\n"
     ]
    }
   ],
   "source": [
    "acc.append(\"Glass\")\n",
    "for i in range(5):\n",
    "    for train_index, test_index in kf.split(df):\n",
    "        X_train, X_test = data.iloc[train_index], data.iloc[test_index]\n",
    "        y_train, y_test = labels[train_index], labels[test_index]\n",
    "        neural = Sequential()\n",
    "        neural.add(Dense(9, activation='relu', input_dim=9)) \n",
    "        neural.add(Dense(5, activation='relu'))  # Create hidden layers\n",
    "        neural.add(Dense(8, activation='softmax')) # Create output layer\n",
    "        neural.compile(loss='categorical_crossentropy', optimizer='adam', metrics=['accuracy']) # Compile the baseline\n",
    "        model_fit = neural.fit(X_train, y_train, shuffle=True, verbose=0) # Train the baseline\n",
    "        score = neural.evaluate(X_test, y_test)\n",
    "        print \"accuracy: \", score[1]\n",
    "        acc.append(score[1])"
   ]
  },
  {
   "cell_type": "code",
   "execution_count": 12,
   "metadata": {},
   "outputs": [
    {
     "name": "stdout",
     "output_type": "stream",
     "text": [
      "['Appendicitis', 0.8679245294265028, 0.7169811343247036, 0.830188680369899, 0.3207547220419038, 0.1320754716981132, 0.7358490588530054, 0.47169811714370297, 0.33962264544558973, 0.8113207547169812, 0.3018867938586001, 'Mushroom', 0.6162296244221153, 0.684975194897236, 0.663359319631467, 0.6846208362440789, 0.6502480510276399, 0.6658398299501096, 0.6640680368532955, 0.6754075124236728, 0.6991495393338059, 0.6743444365698087, 'Glass', 0.3364485981308411, 0.08411214953271028, 0.3644859813084112, 0.0, 0.37383177570093457, 0.0, 0.14953271028037382, 0.0, 0.04672897196261682, 0.37383177570093457]\n"
     ]
    }
   ],
   "source": [
    "print acc\n",
    "\n",
    "with open(\"accNeuralNetworksWith33Noise.csv\", 'wb') as myfile:\n",
    "    wr = csv.writer(myfile, delimiter='\\n')\n",
    "    wr.writerow(acc)"
   ]
  },
  {
   "cell_type": "code",
   "execution_count": null,
   "metadata": {},
   "outputs": [],
   "source": []
  }
 ],
 "metadata": {
  "kernelspec": {
   "display_name": "Python 2",
   "language": "python",
   "name": "python2"
  },
  "language_info": {
   "codemirror_mode": {
    "name": "ipython",
    "version": 2
   },
   "file_extension": ".py",
   "mimetype": "text/x-python",
   "name": "python",
   "nbconvert_exporter": "python",
   "pygments_lexer": "ipython2",
   "version": "2.7.15"
  }
 },
 "nbformat": 4,
 "nbformat_minor": 2
}
