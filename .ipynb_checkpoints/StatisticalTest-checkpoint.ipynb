{
 "cells": [
  {
   "cell_type": "code",
   "execution_count": 2,
   "metadata": {},
   "outputs": [],
   "source": [
    "\n",
    "\n",
    "from numpy.random import seed\n",
    "from numpy.random import normal\n",
    "from numpy import savetxt\n"
   ]
  },
  {
   "cell_type": "code",
   "execution_count": 3,
   "metadata": {},
   "outputs": [],
   "source": []
  },
  {
   "cell_type": "code",
   "execution_count": 4,
   "metadata": {},
   "outputs": [
    {
     "name": "stdout",
     "output_type": "stream",
     "text": [
      "                 A            B\n",
      "count  1000.000000  1000.000000\n",
      "mean     50.388125    60.388125\n",
      "std       9.814950     9.814950\n",
      "min      19.462356    29.462356\n",
      "25%      43.998396    53.998396\n",
      "50%      50.412926    60.412926\n",
      "75%      57.039989    67.039989\n",
      "max      89.586027    99.586027\n"
     ]
    },
    {
     "data": {
      "image/png": "[encoded data removed]",
      "text/plain": [
       "<Figure size 432x288 with 1 Axes>"
      ]
     },
     "metadata": {},
     "output_type": "display_data"
    },
    {
     "data": {
      "image/png": "[encoded data removed]",
      "text/plain": [
       "<Figure size 432x288 with 2 Axes>"
      ]
     },
     "metadata": {},
     "output_type": "display_data"
    }
   ],
   "source": [
    "from pandas import DataFrame\n",
    "from pandas import read_csv\n",
    "from matplotlib import pyplot\n",
    "# load results file\n",
    "results = DataFrame()\n",
    "results['A'] = read_csv('ELAResults/10EKNNGlass0.csv', header=None).values[:, 0]\n",
    "results['B'] = read_csv('ELAResults/dtGlass0.csv', header=None).values[:, 0]\n",
    "# descriptive stats\n",
    "print(results.describe())\n",
    "# box and whisker plot\n",
    "results.boxplot()\n",
    "pyplot.show()\n",
    "# histogram\n",
    "results.hist()\n",
    "pyplot.show()"
   ]
  },
  {
   "cell_type": "code",
   "execution_count": 5,
   "metadata": {},
   "outputs": [
    {
     "name": "stdout",
     "output_type": "stream",
     "text": [
      "(2.9901307811630056, 0.22423394146329587)\n",
      "It is likely that result1 is normal\n"
     ]
    }
   ],
   "source": [
    "from pandas import read_csv\n",
    "from scipy.stats import normaltest\n",
    "from matplotlib import pyplot\n",
    "\n",
    "result=[]\n",
    "result.append(read_csv('ELAResults/10EKNNGlass0.csv', header=None))\n",
    "result.append(read_csv('ELAResults/dtGlass0.csv', header=None))\n",
    "\n",
    "for res in result:\n",
    "    value, p = normaltest(res.values[:,0])\n",
    "    print(value, p)\n",
    "    if p >= 0.05:\n",
    "        print('It is likely that result1 is normal')\n",
    "    else:\n",
    "        print('It is unlikely that result1 is normal')"
   ]
  },
  {
   "cell_type": "code",
   "execution_count": null,
   "metadata": {},
   "outputs": [],
   "source": []
  }
 ],
 "metadata": {
  "kernelspec": {
   "display_name": "Python 2",
   "language": "python",
   "name": "python2"
  },
  "language_info": {
   "codemirror_mode": {
    "name": "ipython",
    "version": 2
   },
   "file_extension": ".py",
   "mimetype": "text/x-python",
   "name": "python",
   "nbconvert_exporter": "python",
   "pygments_lexer": "ipython2",
   "version": "2.7.15"
  }
 },
 "nbformat": 4,
 "nbformat_minor": 2
}
