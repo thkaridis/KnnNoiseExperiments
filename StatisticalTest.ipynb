{
 "cells": [
  {
   "cell_type": "code",
   "execution_count": 9,
   "metadata": {},
   "outputs": [
    {
     "name": "stdout",
     "output_type": "stream",
     "text": [
      "['10\\xce\\x95\\xce\\x9a\\xce\\x9dNAppendicitis0.csv', '50MKNNGlass0.csv', 'svmMushroom0.csv', 'dtAppendicitis20.csv', '50\\xce\\x95\\xce\\x9a\\xce\\x9dNAppendicitis0.csv', '30M\\xce\\x9a\\xce\\x9dNMushroom0.csv', '5\\xce\\x95\\xce\\x9a\\xce\\x9dNAppendicitis0.csv', '10M\\xce\\x9a\\xce\\x9dNMushroom0.csv', '10M\\xce\\x9a\\xce\\x9dNAppendicitis0.csv', 'svmMushroom10.csv', 'nbAppendicitis0.csv', '5MKNNGlass0.csv', '50M\\xce\\x9a\\xce\\x9dNMushroom0.csv', '1E\\xce\\x9a\\xce\\x9dNMushroom0.csv', '1M\\xce\\x9a\\xce\\x9dNMushroom0.csv', 'dtGlass0.csv', 'svmAppendicitis33.csv', '15M\\xce\\x9a\\xce\\x9dNMushroom0.csv', 'nbMushroom0.csv', '5EKNNGlass0.csv', '30E\\xce\\x9a\\xce\\x9dNMushroom0.csv', '20M\\xce\\x9a\\xce\\x9dNAppendicitis0.csv', 'nbGlass20.csv', 'nbAppendicitis33.csv', 'dtMushroom10.csv', '30M\\xce\\x9a\\xce\\x9dNAppendicitis0.csv', '15MKNNGlass0.csv', 'svmMushroom20.csv', 'nbGlass33.csv', 'dtMushroom0.csv', 'nbMushroom33.csv', 'nbAppendicitis20.csv', '5E\\xce\\x9a\\xce\\x9dNMushroom0.csv', '50E\\xce\\x9a\\xce\\x9dNMushroom0.csv', 'nbMushroom10.csv', 'nbAppendicitis10.csv', 'nbGlass10.csv', 'svmGlass10.csv', '15E\\xce\\x9a\\xce\\x9dNMushroom0.csv', '5M\\xce\\x9a\\xce\\x9dNMushroom0.csv', '20M\\xce\\x9a\\xce\\x9dNMushroom0.csv', 'svmAppendicitis0.csv', '20E\\xce\\x9a\\xce\\x9dNMushroom0.csv', 'dtGlass10.csv', '10MKNNGlass0.csv', 'nbGlass0.csv', 'dtAppendicitis33.csv', '1M\\xce\\x9a\\xce\\x9dNAppendicitis0.csv', 'svmGlass20.csv', 'svmGlass33.csv', '10E\\xce\\x9a\\xce\\x9dNMushroom0.csv', '5M\\xce\\x9a\\xce\\x9dNAppendicitis0.csv', '20EKNNGlass0.csv', 'svmGlass0.csv', '30\\xce\\x95\\xce\\x9a\\xce\\x9dNAppendicitis0.csv', 'svmMushroom33.csv', '10EKNNGlass0.csv', 'dtAppendicitis0.csv', '50EKNNGlass0.csv', 'dtGlass20.csv', '15M\\xce\\x9a\\xce\\x9dNAppendicitis0.csv', '30EKNNGlass0.csv', 'svmAppendicitis10.csv', 'dtMushroom33.csv', '15EKNNGlass0.csv', '15\\xce\\x95\\xce\\x9a\\xce\\x9dNAppendicitis0.csv', 'svmAppendicitis20.csv', '30MKNNGlass0.csv', 'dtMushroom20.csv', '1MKNNGlass0.csv', '1\\xce\\x95\\xce\\x9a\\xce\\x9dNAppendicitis0.csv', '1EKNNGlass0.csv', '50M\\xce\\x9a\\xce\\x9dNAppendicitis0.csv', '20\\xce\\x95\\xce\\x9a\\xce\\x9dNAppendicitis0.csv', '20MKNNGlass0.csv', 'dtGlass33.csv', 'dtAppendicitis10.csv', 'nbMushroom20.csv']\n"
     ]
    }
   ],
   "source": [
    "from numpy.random import seed\n",
    "from numpy.random import normal\n",
    "from numpy import savetxt\n",
    "from os import listdir\n",
    "\n",
    "\n",
    "filenames = listdir(\"ELAResults/\")\n",
    "suffix = 'csv'\n",
    "f = [ filename for filename in filenames if filename.endswith( suffix ) ]\n",
    "print f"
   ]
  },
  {
   "cell_type": "code",
   "execution_count": 6,
   "metadata": {},
   "outputs": [
    {
     "name": "stdout",
     "output_type": "stream",
     "text": [
      "               A          B\n",
      "count  10.000000  10.000000\n",
      "mean    0.608716   0.470351\n",
      "std     0.110550   0.065268\n",
      "min     0.407895   0.371795\n",
      "25%     0.556426   0.426667\n",
      "50%     0.609114   0.456389\n",
      "75%     0.646154   0.517956\n",
      "max     0.783333   0.573529\n"
     ]
    },
    {
     "data": {
      "image/png": "[encoded data removed]",
      "text/plain": [
       "<Figure size 432x288 with 1 Axes>"
      ]
     },
     "metadata": {},
     "output_type": "display_data"
    },
    {
     "data": {
      "image/png": "[encoded data removed]",
      "text/plain": [
       "<Figure size 432x288 with 2 Axes>"
      ]
     },
     "metadata": {},
     "output_type": "display_data"
    }
   ],
   "source": [
    "from pandas import DataFrame\n",
    "from pandas import read_csv\n",
    "from matplotlib import pyplot\n",
    "# load results file\n",
    "results = DataFrame()\n",
    "results['A'] = read_csv('ELAResults/10EKNNGlass0.csv', header=None).values[:, 0]\n",
    "results['B'] = read_csv('ELAResults/dtGlass0.csv', header=None).values[:, 0]\n",
    "# descriptive stats\n",
    "print(results.describe())\n",
    "# box and whisker plot\n",
    "results.boxplot()\n",
    "pyplot.show()\n",
    "# histogram\n",
    "results.hist()\n",
    "pyplot.show()"
   ]
  },
  {
   "cell_type": "code",
   "execution_count": 7,
   "metadata": {},
   "outputs": [
    {
     "name": "stdout",
     "output_type": "stream",
     "text": [
      "(0.1606093190576604, 0.9228351530317827)\n",
      "It is likely that result1 is normal\n",
      "(0.7676278539487296, 0.681258179157254)\n",
      "It is likely that result1 is normal\n"
     ]
    },
    {
     "name": "stderr",
     "output_type": "stream",
     "text": [
      "/home/gelou/anaconda2/lib/python2.7/site-packages/scipy/stats/stats.py:1394: UserWarning: kurtosistest only valid for n>=20 ... continuing anyway, n=10\n",
      "  \"anyway, n=%i\" % int(n))\n"
     ]
    }
   ],
   "source": [
    "from pandas import read_csv\n",
    "from scipy.stats import normaltest\n",
    "from matplotlib import pyplot\n",
    "\n",
    "result=[]\n",
    "result.append(read_csv('ELAResults/10EKNNGlass0.csv', header=None))\n",
    "result.append(read_csv('ELAResults/dtGlass0.csv', header=None))\n",
    "\n",
    "for res in result:\n",
    "    value, p = normaltest(res.values[:,0])\n",
    "    print(value, p)\n",
    "    if p >= 0.05:\n",
    "        print('It is likely that result1 is normal')\n",
    "    else:\n",
    "        print('It is unlikely that result1 is normal')"
   ]
  },
  {
   "cell_type": "code",
   "execution_count": null,
   "metadata": {},
   "outputs": [],
   "source": []
  }
 ],
 "metadata": {
  "kernelspec": {
   "display_name": "Python 2",
   "language": "python",
   "name": "python2"
  },
  "language_info": {
   "codemirror_mode": {
    "name": "ipython",
    "version": 2
   },
   "file_extension": ".py",
   "mimetype": "text/x-python",
   "name": "python",
   "nbconvert_exporter": "python",
   "pygments_lexer": "ipython2",
   "version": "2.7.15"
  }
 },
 "nbformat": 4,
 "nbformat_minor": 2
}
