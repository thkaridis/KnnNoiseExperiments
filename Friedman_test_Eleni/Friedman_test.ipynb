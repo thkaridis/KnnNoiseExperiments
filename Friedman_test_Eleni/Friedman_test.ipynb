{
 "cells": [
  {
   "cell_type": "code",
   "execution_count": 1,
   "metadata": {},
   "outputs": [],
   "source": [
    "import numpy as np\n",
    "import os\n",
    "from stac import nonparametric_tests\n",
    "from scipy.stats import friedmanchisquare\n",
    "from scipy.stats import wilcoxon\n",
    "from scipy.stats import mannwhitneyu\n",
    "from scipy.stats import ks_2samp\n",
    "from collections import deque\n",
    "import glob, os\n",
    "from pandas import DataFrame\n",
    "from pandas import read_csv\n",
    "from matplotlib import pyplot as plt\n",
    "from scipy.stats import normaltest\n",
    "import scikit_posthocs as sp"
   ]
  },
  {
   "cell_type": "code",
   "execution_count": 3,
   "metadata": {},
   "outputs": [],
   "source": [
    "homePath=\"/home/eleni/Desktop/AppliedDataScience/test\"\n",
    "os.chdir(homePath)\n",
    "filenames=glob.glob(\"*.csv\")"
   ]
  },
  {
   "cell_type": "code",
   "execution_count": 4,
   "metadata": {},
   "outputs": [
    {
     "name": "stdout",
     "output_type": "stream",
     "text": [
      "[[0.10416667 0.23255814 0.10416667 0.17777778 0.15217391 0.17777778\n",
      "  0.20454545 0.20454545 0.17777778 0.10416667]\n",
      " [0.325      0.17777778 0.35897436 0.15217391 0.23255814 0.26190476\n",
      "  0.23255814 0.26190476 0.15217391 0.35897436]\n",
      " [0.26190476 0.23255814 0.17777778 0.17777778 0.12765957 0.20454545\n",
      "  0.17777778 0.12765957 0.23255814 0.15217391]\n",
      " [0.325      0.17777778 0.35897436 0.29268293 0.26190476 0.35897436\n",
      "  0.39473684 0.325      0.26190476 0.29268293]\n",
      " [0.15217391 0.35897436 0.26190476 0.12765957 0.39473684 0.10416667\n",
      "  0.23255814 0.29268293 0.20454545 0.35897436]\n",
      " [0.29268293 0.15217391 0.20454545 0.26190476 0.325      0.10416667\n",
      "  0.23255814 0.17777778 0.26190476 0.15217391]\n",
      " [0.10416667 0.23255814 0.15217391 0.23255814 0.23255814 0.10416667\n",
      "  0.15217391 0.20454545 0.20454545 0.23255814]\n",
      " [0.29268293 0.20454545 0.23255814 0.26190476 0.29268293 0.20454545\n",
      "  0.26190476 0.23255814 0.15217391 0.35897436]\n",
      " [0.26190476 0.12765957 0.20454545 0.29268293 0.29268293 0.15217391\n",
      "  0.10416667 0.39473684 0.20454545 0.15217391]\n",
      " [0.20454545 0.29268293 0.23255814 0.26190476 0.17777778 0.325\n",
      "  0.325      0.17777778 0.23255814 0.26190476]\n",
      " [0.23255814 0.23255814 0.12765957 0.325      0.26190476 0.15217391\n",
      "  0.20454545 0.26190476 0.20454545 0.29268293]\n",
      " [0.23255814 0.26190476 0.325      0.20454545 0.15217391 0.35897436\n",
      "  0.20454545 0.29268293 0.23255814 0.29268293]\n",
      " [0.20454545 0.29268293 0.20454545 0.29268293 0.26190476 0.23255814\n",
      "  0.29268293 0.20454545 0.39473684 0.12765957]\n",
      " [0.17777778 0.325      0.29268293 0.20454545 0.20454545 0.29268293\n",
      "  0.20454545 0.29268293 0.17777778 0.325     ]\n",
      " [0.17777778 0.29268293 0.12765957 0.17777778 0.26190476 0.20454545\n",
      "  0.15217391 0.23255814 0.15217391 0.20454545]\n",
      " [0.20454545 0.29268293 0.29268293 0.20454545 0.20454545 0.29268293\n",
      "  0.20454545 0.29268293 0.10416667 0.43243243]\n",
      " [0.17777778 0.17777778 0.10416667 0.17777778 0.10416667 0.20454545\n",
      "  0.17777778 0.17777778 0.20454545 0.10416667]]\n"
     ]
    }
   ],
   "source": [
    "lists = []\n",
    "\n",
    "for f in filenames:\n",
    "    with open(f) as file:\n",
    "        data = [float(line.strip()) for line in file] \n",
    "        lists.append(data)\n",
    "array = np.array(lists)\n",
    "print array"
   ]
  },
  {
   "cell_type": "code",
   "execution_count": 6,
   "metadata": {},
   "outputs": [
    {
     "name": "stdout",
     "output_type": "stream",
     "text": [
      "Different distributions (reject H0)\n"
     ]
    }
   ],
   "source": [
    "f, p, rank_avg, rank_cmp  = nonparametric_tests.friedman_test(*(array[i, :] for i in range(array.shape[0])))\n",
    "alpha = 0.05\n",
    "if p > alpha:\n",
    "    print('Same distributions (fail to reject H0)')\n",
    "else:\n",
    "    print('Different distributions (reject H0)')\n"
   ]
  },
  {
   "cell_type": "code",
   "execution_count": 7,
   "metadata": {},
   "outputs": [
    {
     "data": {
      "text/plain": [
       "[2.059054608880722,\n",
       " 4.428074427700476,\n",
       " 2.9003887501438124,\n",
       " 6.177163826642165,\n",
       " 4.494495544115984,\n",
       " 3.985266984930429,\n",
       " 2.7011254008972907,\n",
       " 4.715899265501008,\n",
       " 3.8745651242379173,\n",
       " 4.649478149085501,\n",
       " 4.162389962038448,\n",
       " 4.870881870470525,\n",
       " 4.782320381916516,\n",
       " 4.538776288392989,\n",
       " 2.988950238697822,\n",
       " 4.538776288392989,\n",
       " 1.8819316317727026]"
      ]
     },
     "execution_count": 7,
     "metadata": {},
     "output_type": "execute_result"
    }
   ],
   "source": [
    "rank_cmp"
   ]
  },
  {
   "cell_type": "code",
   "execution_count": 23,
   "metadata": {},
   "outputs": [
    {
     "data": {
      "text/plain": [
       "{'0': 2.059054608880722,\n",
       " '1': 4.428074427700476,\n",
       " '10': 4.162389962038448,\n",
       " '11': 4.870881870470525,\n",
       " '12': 4.782320381916516,\n",
       " '13': 4.538776288392989,\n",
       " '14': 2.988950238697822,\n",
       " '15': 4.538776288392989,\n",
       " '16': 1.8819316317727026,\n",
       " '2': 2.9003887501438124,\n",
       " '3': 6.177163826642165,\n",
       " '4': 4.494495544115984,\n",
       " '5': 3.985266984930429,\n",
       " '6': 2.7011254008972907,\n",
       " '7': 4.715899265501008,\n",
       " '8': 3.8745651242379173,\n",
       " '9': 4.649478149085501}"
      ]
     },
     "execution_count": 23,
     "metadata": {},
     "output_type": "execute_result"
    }
   ],
   "source": [
    "key = [\"0\",\"1\",\"2\", \"3\", \"4\", \"5\", \"6\", \"7\",\"8\", \"9\",\"10\",\"11\", \"12\", \"13\", \"14\", \"15\",\"16\"]\n",
    "dictionary = dict(zip(key, rank_cmp))\n",
    "dictionary"
   ]
  },
  {
   "cell_type": "code",
   "execution_count": 24,
   "metadata": {},
   "outputs": [],
   "source": [
    "comp, z, p, adj_p = nonparametric_tests.holm_test(fuck, control=\"14\")"
   ]
  },
  {
   "cell_type": "code",
   "execution_count": 25,
   "metadata": {},
   "outputs": [
    {
     "data": {
      "text/plain": [
       "['14 vs 3',\n",
       " '14 vs 11',\n",
       " '14 vs 12',\n",
       " '14 vs 7',\n",
       " '14 vs 9',\n",
       " '14 vs 13',\n",
       " '14 vs 15',\n",
       " '14 vs 4',\n",
       " '14 vs 1',\n",
       " '14 vs 10',\n",
       " '14 vs 16',\n",
       " '14 vs 5',\n",
       " '14 vs 0',\n",
       " '14 vs 8',\n",
       " '14 vs 6',\n",
       " '14 vs 2']"
      ]
     },
     "execution_count": 25,
     "metadata": {},
     "output_type": "execute_result"
    }
   ],
   "source": [
    "comp"
   ]
  },
  {
   "cell_type": "code",
   "execution_count": 26,
   "metadata": {},
   "outputs": [
    {
     "data": {
      "text/plain": [
       "[0.001431547508420783,\n",
       " 0.059845298956641146,\n",
       " 0.07291375835251923,\n",
       " 0.08417681836879942,\n",
       " 0.09680829788098655,\n",
       " 0.12118327283746311,\n",
       " 0.12118327283746311,\n",
       " 0.13218393815323815,\n",
       " 0.15011533973795843,\n",
       " 0.24061951540799642,\n",
       " 0.26828588367711714,\n",
       " 0.3190962696824049,\n",
       " 0.352425125933145,\n",
       " 0.37582508748869836,\n",
       " 0.7734808237123365,\n",
       " 0.9294304154577402]"
      ]
     },
     "execution_count": 26,
     "metadata": {},
     "output_type": "execute_result"
    }
   ],
   "source": [
    "p"
   ]
  },
  {
   "cell_type": "code",
   "execution_count": 15,
   "metadata": {},
   "outputs": [
    {
     "data": {
      "text/plain": [
       "6.0"
      ]
     },
     "execution_count": 15,
     "metadata": {},
     "output_type": "execute_result"
    }
   ],
   "source": [
    "stat"
   ]
  },
  {
   "cell_type": "code",
   "execution_count": null,
   "metadata": {},
   "outputs": [],
   "source": [
    "pc = sp.posthoc_nemenyi(array)\n",
    "pc[1]"
   ]
  },
  {
   "cell_type": "code",
   "execution_count": null,
   "metadata": {},
   "outputs": [],
   "source": [
    "sp.sign_plot(pc)"
   ]
  },
  {
   "cell_type": "code",
   "execution_count": null,
   "metadata": {},
   "outputs": [],
   "source": [
    "stat, p = wilcoxon(*(array[i, :] for i in range(array.shape[0])))\n",
    "alpha = 0.05\n",
    "if p > alpha:\n",
    "    print('Same distributions (fail to reject H0)')\n",
    "else:\n",
    "    print('Different distributions (reject H0)')\n"
   ]
  },
  {
   "cell_type": "code",
   "execution_count": null,
   "metadata": {},
   "outputs": [],
   "source": []
  }
 ],
 "metadata": {
  "kernelspec": {
   "display_name": "Python 2",
   "language": "python",
   "name": "python2"
  },
  "language_info": {
   "codemirror_mode": {
    "name": "ipython",
    "version": 2
   },
   "file_extension": ".py",
   "mimetype": "text/x-python",
   "name": "python",
   "nbconvert_exporter": "python",
   "pygments_lexer": "ipython2",
   "version": "2.7.15"
  }
 },
 "nbformat": 4,
 "nbformat_minor": 2
}
