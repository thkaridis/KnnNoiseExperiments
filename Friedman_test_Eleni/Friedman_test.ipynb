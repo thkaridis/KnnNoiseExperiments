{
 "cells": [
  {
   "cell_type": "code",
   "execution_count": 14,
   "metadata": {},
   "outputs": [],
   "source": [
    "import numpy as np\n",
    "import os\n",
    "from scipy.stats import friedmanchisquare\n",
    "from scipy.stats import wilcoxon\n",
    "from scipy.stats import mannwhitneyu\n",
    "from scipy.stats import ks_2samp\n",
    "from collections import deque\n",
    "import glob, os\n",
    "from pandas import DataFrame\n",
    "from pandas import read_csv\n",
    "from matplotlib import pyplot as plt\n",
    "from scipy.stats import normaltest\n",
    "import scikit_posthocs as sp"
   ]
  },
  {
   "cell_type": "code",
   "execution_count": 45,
   "metadata": {},
   "outputs": [
    {
     "name": "stdout",
     "output_type": "stream",
     "text": [
      "[[1 2 3]\n",
      " [4 5 6]\n",
      " [7 8 9]]\n",
      "Statistics=6.000, p=0.050\n",
      "Different distributions (reject H0)\n"
     ]
    }
   ],
   "source": [
    "a = np.array([[1, 2, 3], [4, 5, 6] ,[7, 8, 9]])\n",
    "print a\n",
    "stat, p = friedmanchisquare(*(a[i, :] for i in range(a.shape[0])))\n",
    "print('Statistics=%.3f, p=%.3f' % (stat, p))\n",
    "# interpret\n",
    "alpha = 0.05\n",
    "if p > alpha:\n",
    "    print('Same distributions (fail to reject H0)')\n",
    "else:\n",
    "    print('Different distributions (reject H0)')\n"
   ]
  },
  {
   "cell_type": "code",
   "execution_count": 46,
   "metadata": {},
   "outputs": [],
   "source": [
    "homePath=\"/home/valia/Documents/KnnNoiseExperiments/Friedman_test_Eleni/test\"\n",
    "os.chdir(homePath)\n",
    "filenames=glob.glob(\"*.csv\")"
   ]
  },
  {
   "cell_type": "code",
   "execution_count": 47,
   "metadata": {},
   "outputs": [
    {
     "name": "stdout",
     "output_type": "stream",
     "text": [
      "[[0.75471698 0.8490566  0.73584906 0.77358491 0.79245283 0.73584906\n",
      "  0.71698113 0.75471698 0.79245283 0.77358491]\n",
      " [0.35897436 0.15217391 0.23255814 0.29268293 0.12765957 0.29268293\n",
      "  0.35897436 0.12765957 0.15217391 0.26190476]\n",
      " [0.8490566  0.73584906 0.77358491 0.64150943 0.77358491 0.73584906\n",
      "  0.62264151 0.79245283 0.81132075 0.81132075]\n",
      " [0.20454545 0.29268293 0.20454545 0.29268293 0.23255814 0.26190476\n",
      "  0.39473684 0.12765957 0.26190476 0.23255814]\n",
      " [0.79245283 0.77358491 0.8490566  0.67924528 0.86792453 0.8490566\n",
      "  0.67924528 0.75471698 0.73584906 0.69811321]\n",
      " [0.39473684 0.26190476 0.26190476 0.23255814 0.26190476 0.20454545\n",
      "  0.325      0.17777778 0.12765957 0.15217391]\n",
      " [0.81132075 0.79245283 0.75471698 0.83018868 0.86792453 0.73584906\n",
      "  0.83018868 0.77358491 0.81132075 0.77358491]\n",
      " [0.17777778 0.12765957 0.15217391 0.12765957 0.10416667 0.17777778\n",
      "  0.17777778 0.15217391 0.17777778 0.15217391]\n",
      " [0.8490566  0.8490566  0.90566038 0.8490566  0.90566038 0.83018868\n",
      "  0.8490566  0.8490566  0.83018868 0.90566038]\n",
      " [0.79245283 0.81132075 0.8490566  0.75471698 0.73584906 0.8490566\n",
      "  0.77358491 0.83018868 0.81132075 0.79245283]]\n"
     ]
    }
   ],
   "source": [
    "lists = []\n",
    "\n",
    "for f in filenames:\n",
    "    with open(f) as file:\n",
    "        data = [float(line.strip()) for line in file] \n",
    "        lists.append(data)\n",
    "array = np.array(lists)\n",
    "print array"
   ]
  },
  {
   "cell_type": "code",
   "execution_count": 48,
   "metadata": {},
   "outputs": [
    {
     "name": "stdout",
     "output_type": "stream",
     "text": [
      "[array([0.75471698, 0.8490566 , 0.73584906, 0.77358491, 0.79245283,\n",
      "       0.73584906, 0.71698113, 0.75471698, 0.79245283, 0.77358491]), array([0.35897436, 0.15217391, 0.23255814, 0.29268293, 0.12765957,\n",
      "       0.29268293, 0.35897436, 0.12765957, 0.15217391, 0.26190476]), array([0.8490566 , 0.73584906, 0.77358491, 0.64150943, 0.77358491,\n",
      "       0.73584906, 0.62264151, 0.79245283, 0.81132075, 0.81132075]), array([0.20454545, 0.29268293, 0.20454545, 0.29268293, 0.23255814,\n",
      "       0.26190476, 0.39473684, 0.12765957, 0.26190476, 0.23255814]), array([0.79245283, 0.77358491, 0.8490566 , 0.67924528, 0.86792453,\n",
      "       0.8490566 , 0.67924528, 0.75471698, 0.73584906, 0.69811321]), array([0.39473684, 0.26190476, 0.26190476, 0.23255814, 0.26190476,\n",
      "       0.20454545, 0.325     , 0.17777778, 0.12765957, 0.15217391]), array([0.81132075, 0.79245283, 0.75471698, 0.83018868, 0.86792453,\n",
      "       0.73584906, 0.83018868, 0.77358491, 0.81132075, 0.77358491]), array([0.17777778, 0.12765957, 0.15217391, 0.12765957, 0.10416667,\n",
      "       0.17777778, 0.17777778, 0.15217391, 0.17777778, 0.15217391]), array([0.8490566 , 0.8490566 , 0.90566038, 0.8490566 , 0.90566038,\n",
      "       0.83018868, 0.8490566 , 0.8490566 , 0.83018868, 0.90566038]), array([0.79245283, 0.81132075, 0.8490566 , 0.75471698, 0.73584906,\n",
      "       0.8490566 , 0.77358491, 0.83018868, 0.81132075, 0.79245283])]\n"
     ]
    }
   ],
   "source": [
    "print [array[i, :] for i in range(array.shape[0])]"
   ]
  },
  {
   "cell_type": "code",
   "execution_count": 49,
   "metadata": {},
   "outputs": [
    {
     "name": "stdout",
     "output_type": "stream",
     "text": [
      "Different distributions (reject H0)\n"
     ]
    }
   ],
   "source": [
    "stat, p = friedmanchisquare(*(array[i, :] for i in range(array.shape[0])))\n",
    "alpha = 0.05\n",
    "if p > alpha:\n",
    "    print('Same distributions (fail to reject H0)')\n",
    "else:\n",
    "    print('Different distributions (reject H0)')\n"
   ]
  },
  {
   "cell_type": "code",
   "execution_count": 50,
   "metadata": {},
   "outputs": [
    {
     "data": {
      "text/plain": [
       "1.2316217902304777e-12"
      ]
     },
     "execution_count": 50,
     "metadata": {},
     "output_type": "execute_result"
    }
   ],
   "source": [
    "p"
   ]
  },
  {
   "cell_type": "code",
   "execution_count": 51,
   "metadata": {},
   "outputs": [
    {
     "data": {
      "text/plain": [
       "75.54812998160638"
      ]
     },
     "execution_count": 51,
     "metadata": {},
     "output_type": "execute_result"
    }
   ],
   "source": [
    "stat"
   ]
  },
  {
   "cell_type": "code",
   "execution_count": 54,
   "metadata": {},
   "outputs": [
    {
     "data": {
      "text/html": [
       "<div>\n",
       "<style scoped>\n",
       "    .dataframe tbody tr th:only-of-type {\n",
       "        vertical-align: middle;\n",
       "    }\n",
       "\n",
       "    .dataframe tbody tr th {\n",
       "        vertical-align: top;\n",
       "    }\n",
       "\n",
       "    .dataframe thead th {\n",
       "        text-align: right;\n",
       "    }\n",
       "</style>\n",
       "<table border=\"1\" class=\"dataframe\">\n",
       "  <thead>\n",
       "    <tr style=\"text-align: right;\">\n",
       "      <th></th>\n",
       "      <th>0</th>\n",
       "      <th>1</th>\n",
       "      <th>2</th>\n",
       "      <th>3</th>\n",
       "      <th>4</th>\n",
       "      <th>5</th>\n",
       "      <th>6</th>\n",
       "      <th>7</th>\n",
       "      <th>8</th>\n",
       "      <th>9</th>\n",
       "    </tr>\n",
       "  </thead>\n",
       "  <tbody>\n",
       "    <tr>\n",
       "      <th>0</th>\n",
       "      <td>-1.000000</td>\n",
       "      <td>0.9</td>\n",
       "      <td>0.9</td>\n",
       "      <td>0.9</td>\n",
       "      <td>0.9</td>\n",
       "      <td>0.9</td>\n",
       "      <td>0.9</td>\n",
       "      <td>0.702093</td>\n",
       "      <td>0.9</td>\n",
       "      <td>0.9</td>\n",
       "    </tr>\n",
       "    <tr>\n",
       "      <th>1</th>\n",
       "      <td>0.900000</td>\n",
       "      <td>-1.0</td>\n",
       "      <td>0.9</td>\n",
       "      <td>0.9</td>\n",
       "      <td>0.9</td>\n",
       "      <td>0.9</td>\n",
       "      <td>0.9</td>\n",
       "      <td>0.900000</td>\n",
       "      <td>0.9</td>\n",
       "      <td>0.9</td>\n",
       "    </tr>\n",
       "    <tr>\n",
       "      <th>2</th>\n",
       "      <td>0.900000</td>\n",
       "      <td>0.9</td>\n",
       "      <td>-1.0</td>\n",
       "      <td>0.9</td>\n",
       "      <td>0.9</td>\n",
       "      <td>0.9</td>\n",
       "      <td>0.9</td>\n",
       "      <td>0.900000</td>\n",
       "      <td>0.9</td>\n",
       "      <td>0.9</td>\n",
       "    </tr>\n",
       "    <tr>\n",
       "      <th>3</th>\n",
       "      <td>0.900000</td>\n",
       "      <td>0.9</td>\n",
       "      <td>0.9</td>\n",
       "      <td>-1.0</td>\n",
       "      <td>0.9</td>\n",
       "      <td>0.9</td>\n",
       "      <td>0.9</td>\n",
       "      <td>0.900000</td>\n",
       "      <td>0.9</td>\n",
       "      <td>0.9</td>\n",
       "    </tr>\n",
       "    <tr>\n",
       "      <th>4</th>\n",
       "      <td>0.900000</td>\n",
       "      <td>0.9</td>\n",
       "      <td>0.9</td>\n",
       "      <td>0.9</td>\n",
       "      <td>-1.0</td>\n",
       "      <td>0.9</td>\n",
       "      <td>0.9</td>\n",
       "      <td>0.900000</td>\n",
       "      <td>0.9</td>\n",
       "      <td>0.9</td>\n",
       "    </tr>\n",
       "    <tr>\n",
       "      <th>5</th>\n",
       "      <td>0.900000</td>\n",
       "      <td>0.9</td>\n",
       "      <td>0.9</td>\n",
       "      <td>0.9</td>\n",
       "      <td>0.9</td>\n",
       "      <td>-1.0</td>\n",
       "      <td>0.9</td>\n",
       "      <td>0.900000</td>\n",
       "      <td>0.9</td>\n",
       "      <td>0.9</td>\n",
       "    </tr>\n",
       "    <tr>\n",
       "      <th>6</th>\n",
       "      <td>0.900000</td>\n",
       "      <td>0.9</td>\n",
       "      <td>0.9</td>\n",
       "      <td>0.9</td>\n",
       "      <td>0.9</td>\n",
       "      <td>0.9</td>\n",
       "      <td>-1.0</td>\n",
       "      <td>0.900000</td>\n",
       "      <td>0.9</td>\n",
       "      <td>0.9</td>\n",
       "    </tr>\n",
       "    <tr>\n",
       "      <th>7</th>\n",
       "      <td>0.702093</td>\n",
       "      <td>0.9</td>\n",
       "      <td>0.9</td>\n",
       "      <td>0.9</td>\n",
       "      <td>0.9</td>\n",
       "      <td>0.9</td>\n",
       "      <td>0.9</td>\n",
       "      <td>-1.000000</td>\n",
       "      <td>0.9</td>\n",
       "      <td>0.9</td>\n",
       "    </tr>\n",
       "    <tr>\n",
       "      <th>8</th>\n",
       "      <td>0.900000</td>\n",
       "      <td>0.9</td>\n",
       "      <td>0.9</td>\n",
       "      <td>0.9</td>\n",
       "      <td>0.9</td>\n",
       "      <td>0.9</td>\n",
       "      <td>0.9</td>\n",
       "      <td>0.900000</td>\n",
       "      <td>-1.0</td>\n",
       "      <td>0.9</td>\n",
       "    </tr>\n",
       "    <tr>\n",
       "      <th>9</th>\n",
       "      <td>0.900000</td>\n",
       "      <td>0.9</td>\n",
       "      <td>0.9</td>\n",
       "      <td>0.9</td>\n",
       "      <td>0.9</td>\n",
       "      <td>0.9</td>\n",
       "      <td>0.9</td>\n",
       "      <td>0.900000</td>\n",
       "      <td>0.9</td>\n",
       "      <td>-1.0</td>\n",
       "    </tr>\n",
       "  </tbody>\n",
       "</table>\n",
       "</div>"
      ],
      "text/plain": [
       "          0    1    2    3    4    5    6         7    8    9\n",
       "0 -1.000000  0.9  0.9  0.9  0.9  0.9  0.9  0.702093  0.9  0.9\n",
       "1  0.900000 -1.0  0.9  0.9  0.9  0.9  0.9  0.900000  0.9  0.9\n",
       "2  0.900000  0.9 -1.0  0.9  0.9  0.9  0.9  0.900000  0.9  0.9\n",
       "3  0.900000  0.9  0.9 -1.0  0.9  0.9  0.9  0.900000  0.9  0.9\n",
       "4  0.900000  0.9  0.9  0.9 -1.0  0.9  0.9  0.900000  0.9  0.9\n",
       "5  0.900000  0.9  0.9  0.9  0.9 -1.0  0.9  0.900000  0.9  0.9\n",
       "6  0.900000  0.9  0.9  0.9  0.9  0.9 -1.0  0.900000  0.9  0.9\n",
       "7  0.702093  0.9  0.9  0.9  0.9  0.9  0.9 -1.000000  0.9  0.9\n",
       "8  0.900000  0.9  0.9  0.9  0.9  0.9  0.9  0.900000 -1.0  0.9\n",
       "9  0.900000  0.9  0.9  0.9  0.9  0.9  0.9  0.900000  0.9 -1.0"
      ]
     },
     "execution_count": 54,
     "metadata": {},
     "output_type": "execute_result"
    }
   ],
   "source": [
    "pc = sp.posthoc_nemenyi_friedman(array)\n",
    "pc"
   ]
  },
  {
   "cell_type": "code",
   "execution_count": 55,
   "metadata": {},
   "outputs": [
    {
     "data": {
      "text/plain": [
       "(<matplotlib.axes._subplots.AxesSubplot at 0x7fbeb0780410>,\n",
       " <matplotlib.colorbar.ColorbarBase at 0x7fbeb071dbd0>)"
      ]
     },
     "execution_count": 55,
     "metadata": {},
     "output_type": "execute_result"
    },
    {
     "data": {
      "image/png": "[encoded data removed]",
      "text/plain": [
       "<Figure size 432x288 with 2 Axes>"
      ]
     },
     "metadata": {
      "needs_background": "light"
     },
     "output_type": "display_data"
    }
   ],
   "source": [
    "heatmap_args = {'linewidths': 0.25, 'linecolor': '0.5', 'clip_on': False, 'square': True, 'cbar_ax_bbox': [0.80, 0.35, 0.04, 0.3]}\n",
    "sp.sign_plot(pc, **heatmap_args)"
   ]
  },
  {
   "cell_type": "code",
   "execution_count": null,
   "metadata": {},
   "outputs": [],
   "source": []
  }
 ],
 "metadata": {
  "kernelspec": {
   "display_name": "Python 2",
   "language": "python",
   "name": "python2"
  },
  "language_info": {
   "codemirror_mode": {
    "name": "ipython",
    "version": 2
   },
   "file_extension": ".py",
   "mimetype": "text/x-python",
   "name": "python",
   "nbconvert_exporter": "python",
   "pygments_lexer": "ipython2",
   "version": "2.7.15rc1"
  }
 },
 "nbformat": 4,
 "nbformat_minor": 2
}
