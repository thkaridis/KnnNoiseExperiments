{
 "cells": [
  {
   "cell_type": "code",
   "execution_count": 1,
   "metadata": {},
   "outputs": [],
   "source": [
    "import numpy as np\n",
    "import os\n",
    "from scipy.stats import friedmanchisquare\n",
    "from scipy.stats import wilcoxon\n",
    "from scipy.stats import mannwhitneyu\n",
    "from scipy.stats import ks_2samp\n",
    "from collections import deque\n",
    "import glob, os\n",
    "from pandas import DataFrame\n",
    "from pandas import read_csv\n",
    "from matplotlib import pyplot as plt\n",
    "from scipy.stats import normaltest\n",
    "import scikit_posthocs as sp"
   ]
  },
  {
   "cell_type": "code",
   "execution_count": 2,
   "metadata": {},
   "outputs": [
    {
     "name": "stdout",
     "output_type": "stream",
     "text": [
      "[[1 2 3]\n",
      " [4 5 6]\n",
      " [7 8 9]]\n",
      "Statistics=6.000, p=0.050\n",
      "Different distributions (reject H0)\n"
     ]
    }
   ],
   "source": [
    "a = np.array([[1, 2, 3], [4, 5, 6] ,[7, 8, 9]])\n",
    "print a\n",
    "stat, p = friedmanchisquare(*(a[i, :] for i in range(a.shape[0])))\n",
    "print('Statistics=%.3f, p=%.3f' % (stat, p))\n",
    "# interpret\n",
    "alpha = 0.05\n",
    "if p > alpha:\n",
    "    print('Same distributions (fail to reject H0)')\n",
    "else:\n",
    "    print('Different distributions (reject H0)')\n"
   ]
  },
  {
   "cell_type": "code",
   "execution_count": 4,
   "metadata": {},
   "outputs": [],
   "source": [
    "homePath=\"/home/eleni/Desktop/AppliedDataScience/KnnNoiseExperiments/Friedman_test_Eleni/test\"\n",
    "os.chdir(homePath)\n",
    "filenames=glob.glob(\"*.csv\")"
   ]
  },
  {
   "cell_type": "code",
   "execution_count": 5,
   "metadata": {},
   "outputs": [
    {
     "name": "stdout",
     "output_type": "stream",
     "text": [
      "[[0.17777778 0.12765957 0.15217391 0.12765957 0.10416667 0.17777778\n",
      "  0.17777778 0.15217391 0.17777778 0.15217391]\n",
      " [0.20454545 0.29268293 0.20454545 0.29268293 0.23255814 0.26190476\n",
      "  0.39473684 0.12765957 0.26190476 0.23255814]\n",
      " [0.39473684 0.26190476 0.26190476 0.23255814 0.26190476 0.20454545\n",
      "  0.325      0.17777778 0.12765957 0.15217391]\n",
      " [0.35897436 0.15217391 0.23255814 0.29268293 0.12765957 0.29268293\n",
      "  0.35897436 0.12765957 0.15217391 0.26190476]]\n"
     ]
    }
   ],
   "source": [
    "lists = []\n",
    "\n",
    "for f in filenames:\n",
    "    with open(f) as file:\n",
    "        data = [float(line.strip()) for line in file] \n",
    "        lists.append(data)\n",
    "array = np.array(lists)\n",
    "print array"
   ]
  },
  {
   "cell_type": "code",
   "execution_count": 6,
   "metadata": {},
   "outputs": [
    {
     "name": "stdout",
     "output_type": "stream",
     "text": [
      "[array([0.17777778, 0.12765957, 0.15217391, 0.12765957, 0.10416667,\n",
      "       0.17777778, 0.17777778, 0.15217391, 0.17777778, 0.15217391]), array([0.20454545, 0.29268293, 0.20454545, 0.29268293, 0.23255814,\n",
      "       0.26190476, 0.39473684, 0.12765957, 0.26190476, 0.23255814]), array([0.39473684, 0.26190476, 0.26190476, 0.23255814, 0.26190476,\n",
      "       0.20454545, 0.325     , 0.17777778, 0.12765957, 0.15217391]), array([0.35897436, 0.15217391, 0.23255814, 0.29268293, 0.12765957,\n",
      "       0.29268293, 0.35897436, 0.12765957, 0.15217391, 0.26190476])]\n"
     ]
    }
   ],
   "source": [
    "print [array[i, :] for i in range(array.shape[0])]"
   ]
  },
  {
   "cell_type": "code",
   "execution_count": 7,
   "metadata": {},
   "outputs": [
    {
     "name": "stdout",
     "output_type": "stream",
     "text": [
      "Different distributions (reject H0)\n"
     ]
    }
   ],
   "source": [
    "stat, p = friedmanchisquare(*(array[i, :] for i in range(array.shape[0])))\n",
    "alpha = 0.05\n",
    "if p > alpha:\n",
    "    print('Same distributions (fail to reject H0)')\n",
    "else:\n",
    "    print('Different distributions (reject H0)')\n"
   ]
  },
  {
   "cell_type": "code",
   "execution_count": 8,
   "metadata": {},
   "outputs": [
    {
     "data": {
      "text/plain": [
       "0.025449318563681968"
      ]
     },
     "execution_count": 8,
     "metadata": {},
     "output_type": "execute_result"
    }
   ],
   "source": [
    "p"
   ]
  },
  {
   "cell_type": "code",
   "execution_count": 9,
   "metadata": {},
   "outputs": [
    {
     "data": {
      "text/plain": [
       "9.309278350515465"
      ]
     },
     "execution_count": 9,
     "metadata": {},
     "output_type": "execute_result"
    }
   ],
   "source": [
    "stat"
   ]
  },
  {
   "cell_type": "code",
   "execution_count": 10,
   "metadata": {},
   "outputs": [
    {
     "data": {
      "text/plain": [
       "array([[-1.        ,  0.04030328,  0.09911133,  0.15696763],\n",
       "       [ 0.04030328, -1.        ,  0.98648344,  0.9490471 ],\n",
       "       [ 0.09911133,  0.98648344, -1.        ,  0.99715041],\n",
       "       [ 0.15696763,  0.9490471 ,  0.99715041, -1.        ]])"
      ]
     },
     "execution_count": 10,
     "metadata": {},
     "output_type": "execute_result"
    }
   ],
   "source": [
    "pc = sp.posthoc_nemenyi(array)\n",
    "pc"
   ]
  },
  {
   "cell_type": "code",
   "execution_count": 11,
   "metadata": {},
   "outputs": [
    {
     "data": {
      "text/plain": [
       "(<matplotlib.axes._subplots.AxesSubplot at 0x7faec3e2d790>,\n",
       " <matplotlib.colorbar.ColorbarBase at 0x7faebfb2ab10>)"
      ]
     },
     "execution_count": 11,
     "metadata": {},
     "output_type": "execute_result"
    },
    {
     "data": {
      "image/png": "[encoded data removed]",
      "text/plain": [
       "<Figure size 432x288 with 2 Axes>"
      ]
     },
     "metadata": {
      "needs_background": "light"
     },
     "output_type": "display_data"
    }
   ],
   "source": [
    "heatmap_args = {'linewidths': 0.25, 'linecolor': '0.5', 'clip_on': False, 'square': True, 'cbar_ax_bbox': [0.80, 0.35, 0.04, 0.3]}\n",
    "sp.sign_plot(pc, **heatmap_args)"
   ]
  },
  {
   "cell_type": "code",
   "execution_count": null,
   "metadata": {},
   "outputs": [],
   "source": []
  }
 ],
 "metadata": {
  "kernelspec": {
   "display_name": "Python 2",
   "language": "python",
   "name": "python2"
  },
  "language_info": {
   "codemirror_mode": {
    "name": "ipython",
    "version": 2
   },
   "file_extension": ".py",
   "mimetype": "text/x-python",
   "name": "python",
   "nbconvert_exporter": "python",
   "pygments_lexer": "ipython2",
   "version": "2.7.15"
  }
 },
 "nbformat": 4,
 "nbformat_minor": 2
}
