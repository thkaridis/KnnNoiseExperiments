{
 "cells": [
  {
   "cell_type": "code",
   "execution_count": 8,
   "metadata": {},
   "outputs": [],
   "source": [
    "import math\n",
    "import numpy as np\n",
    "import glob, os"
   ]
  },
  {
   "cell_type": "code",
   "execution_count": 15,
   "metadata": {},
   "outputs": [],
   "source": [
    "homePath=\"/home/valia/Documents/KnnNoiseExperiments/Friedman_test_Eleni/test\"\n",
    "os.chdir(homePath)\n",
    "filenames=glob.glob(\"*.csv\")"
   ]
  },
  {
   "cell_type": "code",
   "execution_count": 33,
   "metadata": {},
   "outputs": [
    {
     "name": "stdout",
     "output_type": "stream",
     "text": [
      "1EKNNAppendicitis20.csv\n",
      "5EKNNAppendicitis20.csv\n",
      "[[0.3947368421052632, 0.2619047619047619, 0.2619047619047619, 0.2325581395348837, 0.2619047619047619, 0.20454545454545445, 0.3249999999999999, 0.17777777777777784, 0.12765957446808504, 0.15217391304347827], [0.17777777777777784, 0.12765957446808504, 0.15217391304347827, 0.12765957446808504, 0.10416666666666656, 0.17777777777777784, 0.17777777777777784, 0.15217391304347827, 0.17777777777777784, 0.15217391304347827]]\n"
     ]
    }
   ],
   "source": [
    "lists = []\n",
    "\n",
    "for f in filenames:\n",
    "    with open(f) as file:\n",
    "        data = [float(line.strip()) for line in file] \n",
    "        lists.append(data)\n",
    "array = np.array(lists)\n",
    "print lists"
   ]
  },
  {
   "cell_type": "code",
   "execution_count": 26,
   "metadata": {},
   "outputs": [
    {
     "name": "stdout",
     "output_type": "stream",
     "text": [
      "0.07624024338200654\n",
      "0.24001659871892284\n"
     ]
    }
   ],
   "source": [
    "std_array = []\n",
    "mean_array = []\n",
    "for i in lists:\n",
    "    array = np.array(i)\n",
    "    std_array.append(np.std(array))\n",
    "    mean_array.append(np.mean(array))\n",
    "print std_array[0]\n",
    "print mean_array[0]"
   ]
  },
  {
   "cell_type": "code",
   "execution_count": 30,
   "metadata": {},
   "outputs": [],
   "source": [
    "s_pooled = math.sqrt(float(pow(std_array[0], 2) + pow(std_array[1], 2))/2)\n",
    "length = len(lists[0])"
   ]
  },
  {
   "cell_type": "code",
   "execution_count": 31,
   "metadata": {},
   "outputs": [],
   "source": [
    "coehn_d = ((float(mean_array[0] - mean_array[1])) / s_pooled) * (float(length - 3)/(length - 2.25)) * (math.sqrt(float(length-2)/length))"
   ]
  },
  {
   "cell_type": "code",
   "execution_count": 34,
   "metadata": {},
   "outputs": [
    {
     "name": "stdout",
     "output_type": "stream",
     "text": [
      "['1EKNNAppendicitis20.csv', '5EKNNAppendicitis20.csv']\n"
     ]
    },
    {
     "data": {
      "text/plain": [
       "1.2443766373217238"
      ]
     },
     "execution_count": 34,
     "metadata": {},
     "output_type": "execute_result"
    }
   ],
   "source": [
    "print filenames\n",
    "coehn_d"
   ]
  },
  {
   "cell_type": "code",
   "execution_count": null,
   "metadata": {},
   "outputs": [],
   "source": []
  }
 ],
 "metadata": {
  "kernelspec": {
   "display_name": "Python 2",
   "language": "python",
   "name": "python2"
  },
  "language_info": {
   "codemirror_mode": {
    "name": "ipython",
    "version": 2
   },
   "file_extension": ".py",
   "mimetype": "text/x-python",
   "name": "python",
   "nbconvert_exporter": "python",
   "pygments_lexer": "ipython2",
   "version": "2.7.15rc1"
  }
 },
 "nbformat": 4,
 "nbformat_minor": 2
}
